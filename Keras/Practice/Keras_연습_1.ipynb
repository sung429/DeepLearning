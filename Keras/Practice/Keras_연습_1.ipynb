{
  "nbformat": 4,
  "nbformat_minor": 0,
  "metadata": {
    "colab": {
      "name": "Keras_연습_1.ipynb",
      "provenance": [],
      "collapsed_sections": []
    },
    "kernelspec": {
      "name": "python3",
      "display_name": "Python 3"
    },
    "accelerator": "TPU"
  },
  "cells": [
    {
      "cell_type": "markdown",
      "metadata": {
        "id": "J52FZn_uoVST",
        "colab_type": "text"
      },
      "source": [
        "\n",
        "\n",
        "1.   데이터셋 생성하기\n",
        "2.   모델 구성하기\n",
        "3.   모델 학습과정 설정하기\n",
        "  - compile()\n",
        "4.   모델 학습시키기\n",
        "  - fit()\n",
        "5.   학습과정 살펴보기\n",
        "6.   모델 평가하기\n",
        "  - evaluate()\n",
        "7.   모델 사용하기\n",
        "  - predict()\n",
        "\n"
      ]
    },
    {
      "cell_type": "markdown",
      "metadata": {
        "id": "XMCnu79iqRUJ",
        "colab_type": "text"
      },
      "source": [
        "### 0. 사용할 패키지 불러오기"
      ]
    },
    {
      "cell_type": "code",
      "metadata": {
        "id": "VzxbbXs_q0VT",
        "colab_type": "code",
        "colab": {
          "base_uri": "https://localhost:8080/",
          "height": 35
        },
        "outputId": "c5bd1897-4c0a-4c53-a71a-763f3f9f9ab4"
      },
      "source": [
        "from keras.utils import np_utils\n",
        "from keras.datasets import mnist\n",
        "from keras.models import Sequential\n",
        "from keras.layers import Dense, Activation"
      ],
      "execution_count": 1,
      "outputs": [
        {
          "output_type": "stream",
          "text": [
            "Using TensorFlow backend.\n"
          ],
          "name": "stderr"
        }
      ]
    },
    {
      "cell_type": "markdown",
      "metadata": {
        "id": "EYBgUdbXq-LV",
        "colab_type": "text"
      },
      "source": [
        "### 1. 데이터셋 생성하기"
      ]
    },
    {
      "cell_type": "code",
      "metadata": {
        "id": "HvhsDWugrBlg",
        "colab_type": "code",
        "colab": {
          "base_uri": "https://localhost:8080/",
          "height": 53
        },
        "outputId": "1c1dc656-6eec-4cbb-e66a-8c91631e7088"
      },
      "source": [
        "(x_train, y_train), (x_test, y_test) = mnist.load_data()"
      ],
      "execution_count": 2,
      "outputs": [
        {
          "output_type": "stream",
          "text": [
            "Downloading data from https://s3.amazonaws.com/img-datasets/mnist.npz\n",
            "11493376/11490434 [==============================] - 0s 0us/step\n"
          ],
          "name": "stdout"
        }
      ]
    },
    {
      "cell_type": "code",
      "metadata": {
        "id": "T6gRhltfrKLk",
        "colab_type": "code",
        "colab": {}
      },
      "source": [
        "x_train = x_train.reshape(60000, 784).astype('float32') / 255.0\n",
        "x_test = x_test.reshape(10000, 784).astype('float32') / 255.0\n",
        "y_train = np_utils.to_categorical(y_train)\n",
        "y_test = np_utils.to_categorical(y_test)"
      ],
      "execution_count": 0,
      "outputs": []
    },
    {
      "cell_type": "markdown",
      "metadata": {
        "id": "maZwNHYdrxf9",
        "colab_type": "text"
      },
      "source": [
        "### 2. 모델 구성하기"
      ]
    },
    {
      "cell_type": "code",
      "metadata": {
        "id": "TIQXE5DVr6q4",
        "colab_type": "code",
        "colab": {
          "base_uri": "https://localhost:8080/",
          "height": 125
        },
        "outputId": "8dbcdbaf-b7ed-4dd0-89d4-ad6542f6ed28"
      },
      "source": [
        "model = Sequential()\n",
        "model.add(Dense(units=64, input_dim = 28*28, activation='relu'))\n",
        "model.add(Dense(units=10, activation='softmax'))"
      ],
      "execution_count": 4,
      "outputs": [
        {
          "output_type": "stream",
          "text": [
            "WARNING:tensorflow:From /usr/local/lib/python3.6/dist-packages/keras/backend/tensorflow_backend.py:66: The name tf.get_default_graph is deprecated. Please use tf.compat.v1.get_default_graph instead.\n",
            "\n",
            "WARNING:tensorflow:From /usr/local/lib/python3.6/dist-packages/keras/backend/tensorflow_backend.py:541: The name tf.placeholder is deprecated. Please use tf.compat.v1.placeholder instead.\n",
            "\n",
            "WARNING:tensorflow:From /usr/local/lib/python3.6/dist-packages/keras/backend/tensorflow_backend.py:4432: The name tf.random_uniform is deprecated. Please use tf.random.uniform instead.\n",
            "\n"
          ],
          "name": "stdout"
        }
      ]
    },
    {
      "cell_type": "markdown",
      "metadata": {
        "id": "c_C_1WdcskOq",
        "colab_type": "text"
      },
      "source": [
        "### 3. 모델 학습과정 설정하기"
      ]
    },
    {
      "cell_type": "code",
      "metadata": {
        "id": "MxcgHgGtsnmo",
        "colab_type": "code",
        "colab": {
          "base_uri": "https://localhost:8080/",
          "height": 89
        },
        "outputId": "5f3a38e0-54ee-4129-acae-34833c1ad5a3"
      },
      "source": [
        "model.compile(loss='categorical_crossentropy', optimizer='sgd', metrics=['accuracy'])"
      ],
      "execution_count": 5,
      "outputs": [
        {
          "output_type": "stream",
          "text": [
            "WARNING:tensorflow:From /usr/local/lib/python3.6/dist-packages/keras/optimizers.py:793: The name tf.train.Optimizer is deprecated. Please use tf.compat.v1.train.Optimizer instead.\n",
            "\n",
            "WARNING:tensorflow:From /usr/local/lib/python3.6/dist-packages/keras/backend/tensorflow_backend.py:3576: The name tf.log is deprecated. Please use tf.math.log instead.\n",
            "\n"
          ],
          "name": "stdout"
        }
      ]
    },
    {
      "cell_type": "markdown",
      "metadata": {
        "id": "Vj2iVNyZsvA9",
        "colab_type": "text"
      },
      "source": [
        "4. 모델 학습시키기"
      ]
    },
    {
      "cell_type": "code",
      "metadata": {
        "id": "__VkE6kFsyv5",
        "colab_type": "code",
        "colab": {
          "base_uri": "https://localhost:8080/",
          "height": 287
        },
        "outputId": "e42018c5-132f-4169-8697-9b3255d8434e"
      },
      "source": [
        "hist = model.fit(x_train, y_train, epochs=5, batch_size=32)"
      ],
      "execution_count": 6,
      "outputs": [
        {
          "output_type": "stream",
          "text": [
            "WARNING:tensorflow:From /usr/local/lib/python3.6/dist-packages/tensorflow/python/ops/math_grad.py:1250: add_dispatch_support.<locals>.wrapper (from tensorflow.python.ops.array_ops) is deprecated and will be removed in a future version.\n",
            "Instructions for updating:\n",
            "Use tf.where in 2.0, which has the same broadcast rule as np.where\n",
            "WARNING:tensorflow:From /usr/local/lib/python3.6/dist-packages/keras/backend/tensorflow_backend.py:1033: The name tf.assign_add is deprecated. Please use tf.compat.v1.assign_add instead.\n",
            "\n",
            "Epoch 1/5\n",
            "60000/60000 [==============================] - 3s 53us/step - loss: 0.6722 - acc: 0.8308\n",
            "Epoch 2/5\n",
            "60000/60000 [==============================] - 3s 43us/step - loss: 0.3474 - acc: 0.9032\n",
            "Epoch 3/5\n",
            "60000/60000 [==============================] - 3s 43us/step - loss: 0.3000 - acc: 0.9156\n",
            "Epoch 4/5\n",
            "60000/60000 [==============================] - 3s 43us/step - loss: 0.2713 - acc: 0.9234\n",
            "Epoch 5/5\n",
            "60000/60000 [==============================] - 3s 43us/step - loss: 0.2497 - acc: 0.9292\n"
          ],
          "name": "stdout"
        }
      ]
    },
    {
      "cell_type": "markdown",
      "metadata": {
        "id": "0NSdg7TRs5ct",
        "colab_type": "text"
      },
      "source": [
        "### 5. 학습과정 살펴보기"
      ]
    },
    {
      "cell_type": "code",
      "metadata": {
        "id": "g1KiP-WQtETY",
        "colab_type": "code",
        "colab": {
          "base_uri": "https://localhost:8080/",
          "height": 71
        },
        "outputId": "d8bc9327-1944-4c99-89ab-fa452f52ff56"
      },
      "source": [
        "print('## training loss and acc ##')\n",
        "print(hist.history['loss'])\n",
        "print(hist.history['acc'])"
      ],
      "execution_count": 7,
      "outputs": [
        {
          "output_type": "stream",
          "text": [
            "## training loss and acc ##\n",
            "[0.6722409146785736, 0.3473636413534482, 0.3000207158545653, 0.27133969992895923, 0.24973305353919664]\n",
            "[0.8308166666666666, 0.9032166666666667, 0.9155833333333333, 0.9233666666666667, 0.9291666666666667]\n"
          ],
          "name": "stdout"
        }
      ]
    },
    {
      "cell_type": "code",
      "metadata": {
        "id": "_CprCoJjtNit",
        "colab_type": "code",
        "colab": {}
      },
      "source": [
        "import matplotlib.pyplot as plt\n",
        "#matplolib inline"
      ],
      "execution_count": 0,
      "outputs": []
    },
    {
      "cell_type": "code",
      "metadata": {
        "id": "ntPcyVRTtTnF",
        "colab_type": "code",
        "colab": {
          "base_uri": "https://localhost:8080/",
          "height": 281
        },
        "outputId": "10cf5323-2ea3-4433-dad9-9e1707693467"
      },
      "source": [
        "\n",
        "plt.subplot(1,2,1)\n",
        "plt.title('loss')\n",
        "plt.plot(hist.history['loss'])\n",
        "plt.subplot(1,2,2)\n",
        "plt.title('acc')\n",
        "plt.plot(hist.history['acc'])\n",
        "plt.show()"
      ],
      "execution_count": 19,
      "outputs": [
        {
          "output_type": "display_data",
          "data": {
            "image/png": "[encoded data removed]",
            "text/plain": [
              "<Figure size 432x288 with 2 Axes>"
            ]
          },
          "metadata": {
            "tags": []
          }
        }
      ]
    },
    {
      "cell_type": "markdown",
      "metadata": {
        "id": "-ssqOYaOtX5N",
        "colab_type": "text"
      },
      "source": [
        "### 6. 모델 평가하기"
      ]
    },
    {
      "cell_type": "code",
      "metadata": {
        "id": "J2sULqsvvBaE",
        "colab_type": "code",
        "colab": {
          "base_uri": "https://localhost:8080/",
          "height": 71
        },
        "outputId": "315837f7-e270-4029-9e27-72da52f1670d"
      },
      "source": [
        "loss_and_metrics = model.evaluate(x_test,y_test, batch_size=32)\n",
        "print('## evaluation loss and metrics ##')\n",
        "print(loss_and_metrics)"
      ],
      "execution_count": 21,
      "outputs": [
        {
          "output_type": "stream",
          "text": [
            "10000/10000 [==============================] - 0s 22us/step\n",
            "## evaluation loss and metrics ##\n",
            "[0.23442956004142762, 0.934]\n"
          ],
          "name": "stdout"
        }
      ]
    },
    {
      "cell_type": "markdown",
      "metadata": {
        "id": "-NSptwW6vPYt",
        "colab_type": "text"
      },
      "source": [
        "7. 모델 사용하기"
      ]
    },
    {
      "cell_type": "code",
      "metadata": {
        "id": "HGegI7APvelB",
        "colab_type": "code",
        "colab": {
          "base_uri": "https://localhost:8080/",
          "height": 71
        },
        "outputId": "38e910eb-c43f-478f-fdab-664e20233cb3"
      },
      "source": [
        "xhat = x_test[0:1]\n",
        "yhat = model.predict(xhat)\n",
        "print('## yhat ##')\n",
        "print(yhat)"
      ],
      "execution_count": 22,
      "outputs": [
        {
          "output_type": "stream",
          "text": [
            "## yhat ##\n",
            "[[1.9953177e-04 3.6302725e-07 4.3967564e-04 1.9490917e-03 1.8110350e-06\n",
            "  1.4149232e-04 5.2415327e-08 9.9650598e-01 4.5633806e-05 7.1643537e-04]]\n"
          ],
          "name": "stdout"
        }
      ]
    },
    {
      "cell_type": "code",
      "metadata": {
        "id": "frgmq_V1vl1F",
        "colab_type": "code",
        "colab": {
          "base_uri": "https://localhost:8080/",
          "height": 413
        },
        "outputId": "d07df4de-aa33-4d39-8206-c079d2626089"
      },
      "source": [
        "from IPython.display import SVG\n",
        "from keras.utils.vis_utils import model_to_dot\n",
        "\n",
        "%matplotlib inline\n",
        "\n",
        "SVG(model_to_dot(model, show_shapes=True).create(prog='dot', format='svg'))"
      ],
      "execution_count": 25,
      "outputs": [
        {
          "output_type": "execute_result",
          "data": {
            "text/plain": [
              "<IPython.core.display.SVG object>"
            ],
            "image/svg+xml": "<svg height=\"295pt\" viewBox=\"0.00 0.00 326.00 221.00\" width=\"435pt\" xmlns=\"http://www.w3.org/2000/svg\" xmlns:xlink=\"http://www.w3.org/1999/xlink\">\n<g class=\"graph\" id=\"graph0\" transform=\"scale(1.3333 1.3333) rotate(0) translate(4 217)\">\n<title>G</title>\n<polygon fill=\"#ffffff\" points=\"-4,4 -4,-217 322,-217 322,4 -4,4\" stroke=\"transparent\"/>\n<!-- 140464902761496 -->\n<g class=\"node\" id=\"node1\">\n<title>140464902761496</title>\n<polygon fill=\"none\" points=\"0,-166.5 0,-212.5 318,-212.5 318,-166.5 0,-166.5\" stroke=\"#000000\"/>\n<text fill=\"#000000\" font-family=\"Times,serif\" font-size=\"14.00\" text-anchor=\"middle\" x=\"86.5\" y=\"-185.8\">dense_1_input: InputLayer</text>\n<polyline fill=\"none\" points=\"173,-166.5 173,-212.5 \" stroke=\"#000000\"/>\n<text fill=\"#000000\" font-family=\"Times,serif\" font-size=\"14.00\" text-anchor=\"middle\" x=\"202\" y=\"-197.3\">input:</text>\n<polyline fill=\"none\" points=\"173,-189.5 231,-189.5 \" stroke=\"#000000\"/>\n<text fill=\"#000000\" font-family=\"Times,serif\" font-size=\"14.00\" text-anchor=\"middle\" x=\"202\" y=\"-174.3\">output:</text>\n<polyline fill=\"none\" points=\"231,-166.5 231,-212.5 \" stroke=\"#000000\"/>\n<text fill=\"#000000\" font-family=\"Times,serif\" font-size=\"14.00\" text-anchor=\"middle\" x=\"274.5\" y=\"-197.3\">(None, 784)</text>\n<polyline fill=\"none\" points=\"231,-189.5 318,-189.5 \" stroke=\"#000000\"/>\n<text fill=\"#000000\" font-family=\"Times,serif\" font-size=\"14.00\" text-anchor=\"middle\" x=\"274.5\" y=\"-174.3\">(None, 784)</text>\n</g>\n<!-- 140464902760936 -->\n<g class=\"node\" id=\"node2\">\n<title>140464902760936</title>\n<polygon fill=\"none\" points=\"33,-83.5 33,-129.5 285,-129.5 285,-83.5 33,-83.5\" stroke=\"#000000\"/>\n<text fill=\"#000000\" font-family=\"Times,serif\" font-size=\"14.00\" text-anchor=\"middle\" x=\"86.5\" y=\"-102.8\">dense_1: Dense</text>\n<polyline fill=\"none\" points=\"140,-83.5 140,-129.5 \" stroke=\"#000000\"/>\n<text fill=\"#000000\" font-family=\"Times,serif\" font-size=\"14.00\" text-anchor=\"middle\" x=\"169\" y=\"-114.3\">input:</text>\n<polyline fill=\"none\" points=\"140,-106.5 198,-106.5 \" stroke=\"#000000\"/>\n<text fill=\"#000000\" font-family=\"Times,serif\" font-size=\"14.00\" text-anchor=\"middle\" x=\"169\" y=\"-91.3\">output:</text>\n<polyline fill=\"none\" points=\"198,-83.5 198,-129.5 \" stroke=\"#000000\"/>\n<text fill=\"#000000\" font-family=\"Times,serif\" font-size=\"14.00\" text-anchor=\"middle\" x=\"241.5\" y=\"-114.3\">(None, 784)</text>\n<polyline fill=\"none\" points=\"198,-106.5 285,-106.5 \" stroke=\"#000000\"/>\n<text fill=\"#000000\" font-family=\"Times,serif\" font-size=\"14.00\" text-anchor=\"middle\" x=\"241.5\" y=\"-91.3\">(None, 64)</text>\n</g>\n<!-- 140464902761496&#45;&gt;140464902760936 -->\n<g class=\"edge\" id=\"edge1\">\n<title>140464902761496-&gt;140464902760936</title>\n<path d=\"M159,-166.3799C159,-158.1745 159,-148.7679 159,-139.8786\" fill=\"none\" stroke=\"#000000\"/>\n<polygon fill=\"#000000\" points=\"162.5001,-139.784 159,-129.784 155.5001,-139.784 162.5001,-139.784\" stroke=\"#000000\"/>\n</g>\n<!-- 140464902761048 -->\n<g class=\"node\" id=\"node3\">\n<title>140464902761048</title>\n<polygon fill=\"none\" points=\"36.5,-.5 36.5,-46.5 281.5,-46.5 281.5,-.5 36.5,-.5\" stroke=\"#000000\"/>\n<text fill=\"#000000\" font-family=\"Times,serif\" font-size=\"14.00\" text-anchor=\"middle\" x=\"90\" y=\"-19.8\">dense_2: Dense</text>\n<polyline fill=\"none\" points=\"143.5,-.5 143.5,-46.5 \" stroke=\"#000000\"/>\n<text fill=\"#000000\" font-family=\"Times,serif\" font-size=\"14.00\" text-anchor=\"middle\" x=\"172.5\" y=\"-31.3\">input:</text>\n<polyline fill=\"none\" points=\"143.5,-23.5 201.5,-23.5 \" stroke=\"#000000\"/>\n<text fill=\"#000000\" font-family=\"Times,serif\" font-size=\"14.00\" text-anchor=\"middle\" x=\"172.5\" y=\"-8.3\">output:</text>\n<polyline fill=\"none\" points=\"201.5,-.5 201.5,-46.5 \" stroke=\"#000000\"/>\n<text fill=\"#000000\" font-family=\"Times,serif\" font-size=\"14.00\" text-anchor=\"middle\" x=\"241.5\" y=\"-31.3\">(None, 64)</text>\n<polyline fill=\"none\" points=\"201.5,-23.5 281.5,-23.5 \" stroke=\"#000000\"/>\n<text fill=\"#000000\" font-family=\"Times,serif\" font-size=\"14.00\" text-anchor=\"middle\" x=\"241.5\" y=\"-8.3\">(None, 10)</text>\n</g>\n<!-- 140464902760936&#45;&gt;140464902761048 -->\n<g class=\"edge\" id=\"edge2\">\n<title>140464902760936-&gt;140464902761048</title>\n<path d=\"M159,-83.3799C159,-75.1745 159,-65.7679 159,-56.8786\" fill=\"none\" stroke=\"#000000\"/>\n<polygon fill=\"#000000\" points=\"162.5001,-56.784 159,-46.784 155.5001,-56.784 162.5001,-56.784\" stroke=\"#000000\"/>\n</g>\n</g>\n</svg>"
          },
          "metadata": {
            "tags": []
          },
          "execution_count": 25
        }
      ]
    },
    {
      "cell_type": "code",
      "metadata": {
        "id": "hj02mGV8wUNF",
        "colab_type": "code",
        "colab": {
          "base_uri": "https://localhost:8080/",
          "height": 413
        },
        "cellView": "code",
        "outputId": "4d2c628f-24ea-40ac-9315-015479b9fc67"
      },
      "source": [
        "#@title 기본 제목 텍스트\n",
        "SVG(model_to_dot(model, show_shapes=True).create(prog='dot', format='svg'))"
      ],
      "execution_count": 26,
      "outputs": [
        {
          "output_type": "execute_result",
          "data": {
            "text/plain": [
              "<IPython.core.display.SVG object>"
            ],
            "image/svg+xml": "<svg height=\"295pt\" viewBox=\"0.00 0.00 326.00 221.00\" width=\"435pt\" xmlns=\"http://www.w3.org/2000/svg\" xmlns:xlink=\"http://www.w3.org/1999/xlink\">\n<g class=\"graph\" id=\"graph0\" transform=\"scale(1.3333 1.3333) rotate(0) translate(4 217)\">\n<title>G</title>\n<polygon fill=\"#ffffff\" points=\"-4,4 -4,-217 322,-217 322,4 -4,4\" stroke=\"transparent\"/>\n<!-- 140464902761496 -->\n<g class=\"node\" id=\"node1\">\n<title>140464902761496</title>\n<polygon fill=\"none\" points=\"0,-166.5 0,-212.5 318,-212.5 318,-166.5 0,-166.5\" stroke=\"#000000\"/>\n<text fill=\"#000000\" font-family=\"Times,serif\" font-size=\"14.00\" text-anchor=\"middle\" x=\"86.5\" y=\"-185.8\">dense_1_input: InputLayer</text>\n<polyline fill=\"none\" points=\"173,-166.5 173,-212.5 \" stroke=\"#000000\"/>\n<text fill=\"#000000\" font-family=\"Times,serif\" font-size=\"14.00\" text-anchor=\"middle\" x=\"202\" y=\"-197.3\">input:</text>\n<polyline fill=\"none\" points=\"173,-189.5 231,-189.5 \" stroke=\"#000000\"/>\n<text fill=\"#000000\" font-family=\"Times,serif\" font-size=\"14.00\" text-anchor=\"middle\" x=\"202\" y=\"-174.3\">output:</text>\n<polyline fill=\"none\" points=\"231,-166.5 231,-212.5 \" stroke=\"#000000\"/>\n<text fill=\"#000000\" font-family=\"Times,serif\" font-size=\"14.00\" text-anchor=\"middle\" x=\"274.5\" y=\"-197.3\">(None, 784)</text>\n<polyline fill=\"none\" points=\"231,-189.5 318,-189.5 \" stroke=\"#000000\"/>\n<text fill=\"#000000\" font-family=\"Times,serif\" font-size=\"14.00\" text-anchor=\"middle\" x=\"274.5\" y=\"-174.3\">(None, 784)</text>\n</g>\n<!-- 140464902760936 -->\n<g class=\"node\" id=\"node2\">\n<title>140464902760936</title>\n<polygon fill=\"none\" points=\"33,-83.5 33,-129.5 285,-129.5 285,-83.5 33,-83.5\" stroke=\"#000000\"/>\n<text fill=\"#000000\" font-family=\"Times,serif\" font-size=\"14.00\" text-anchor=\"middle\" x=\"86.5\" y=\"-102.8\">dense_1: Dense</text>\n<polyline fill=\"none\" points=\"140,-83.5 140,-129.5 \" stroke=\"#000000\"/>\n<text fill=\"#000000\" font-family=\"Times,serif\" font-size=\"14.00\" text-anchor=\"middle\" x=\"169\" y=\"-114.3\">input:</text>\n<polyline fill=\"none\" points=\"140,-106.5 198,-106.5 \" stroke=\"#000000\"/>\n<text fill=\"#000000\" font-family=\"Times,serif\" font-size=\"14.00\" text-anchor=\"middle\" x=\"169\" y=\"-91.3\">output:</text>\n<polyline fill=\"none\" points=\"198,-83.5 198,-129.5 \" stroke=\"#000000\"/>\n<text fill=\"#000000\" font-family=\"Times,serif\" font-size=\"14.00\" text-anchor=\"middle\" x=\"241.5\" y=\"-114.3\">(None, 784)</text>\n<polyline fill=\"none\" points=\"198,-106.5 285,-106.5 \" stroke=\"#000000\"/>\n<text fill=\"#000000\" font-family=\"Times,serif\" font-size=\"14.00\" text-anchor=\"middle\" x=\"241.5\" y=\"-91.3\">(None, 64)</text>\n</g>\n<!-- 140464902761496&#45;&gt;140464902760936 -->\n<g class=\"edge\" id=\"edge1\">\n<title>140464902761496-&gt;140464902760936</title>\n<path d=\"M159,-166.3799C159,-158.1745 159,-148.7679 159,-139.8786\" fill=\"none\" stroke=\"#000000\"/>\n<polygon fill=\"#000000\" points=\"162.5001,-139.784 159,-129.784 155.5001,-139.784 162.5001,-139.784\" stroke=\"#000000\"/>\n</g>\n<!-- 140464902761048 -->\n<g class=\"node\" id=\"node3\">\n<title>140464902761048</title>\n<polygon fill=\"none\" points=\"36.5,-.5 36.5,-46.5 281.5,-46.5 281.5,-.5 36.5,-.5\" stroke=\"#000000\"/>\n<text fill=\"#000000\" font-family=\"Times,serif\" font-size=\"14.00\" text-anchor=\"middle\" x=\"90\" y=\"-19.8\">dense_2: Dense</text>\n<polyline fill=\"none\" points=\"143.5,-.5 143.5,-46.5 \" stroke=\"#000000\"/>\n<text fill=\"#000000\" font-family=\"Times,serif\" font-size=\"14.00\" text-anchor=\"middle\" x=\"172.5\" y=\"-31.3\">input:</text>\n<polyline fill=\"none\" points=\"143.5,-23.5 201.5,-23.5 \" stroke=\"#000000\"/>\n<text fill=\"#000000\" font-family=\"Times,serif\" font-size=\"14.00\" text-anchor=\"middle\" x=\"172.5\" y=\"-8.3\">output:</text>\n<polyline fill=\"none\" points=\"201.5,-.5 201.5,-46.5 \" stroke=\"#000000\"/>\n<text fill=\"#000000\" font-family=\"Times,serif\" font-size=\"14.00\" text-anchor=\"middle\" x=\"241.5\" y=\"-31.3\">(None, 64)</text>\n<polyline fill=\"none\" points=\"201.5,-23.5 281.5,-23.5 \" stroke=\"#000000\"/>\n<text fill=\"#000000\" font-family=\"Times,serif\" font-size=\"14.00\" text-anchor=\"middle\" x=\"241.5\" y=\"-8.3\">(None, 10)</text>\n</g>\n<!-- 140464902760936&#45;&gt;140464902761048 -->\n<g class=\"edge\" id=\"edge2\">\n<title>140464902760936-&gt;140464902761048</title>\n<path d=\"M159,-83.3799C159,-75.1745 159,-65.7679 159,-56.8786\" fill=\"none\" stroke=\"#000000\"/>\n<polygon fill=\"#000000\" points=\"162.5001,-56.784 159,-46.784 155.5001,-56.784 162.5001,-56.784\" stroke=\"#000000\"/>\n</g>\n</g>\n</svg>"
          },
          "metadata": {
            "tags": []
          },
          "execution_count": 26
        }
      ]
    },
    {
      "cell_type": "code",
      "metadata": {
        "id": "H0c2QGMawph1",
        "colab_type": "code",
        "colab": {}
      },
      "source": [
        ""
      ],
      "execution_count": 0,
      "outputs": []
    }
  ]
}