{
  "nbformat": 4,
  "nbformat_minor": 0,
  "metadata": {
    "colab": {
      "name": "pytorch_simpleRNN.ipynb",
      "provenance": [],
      "include_colab_link": true
    },
    "kernelspec": {
      "name": "python3",
      "display_name": "Python 3"
    },
    "accelerator": "GPU"
  },
  "cells": [
    {
      "cell_type": "markdown",
      "metadata": {
        "id": "view-in-github",
        "colab_type": "text"
      },
      "source": [
        "<a href=\"https://colab.research.google.com/github/sung429/DeepLearning/blob/master/pytorch_simpleRNN.ipynb\" target=\"_parent\"><img src=\"https://colab.research.google.com/assets/colab-badge.svg\" alt=\"Open In Colab\"/></a>"
      ]
    },
    {
      "cell_type": "code",
      "metadata": {
        "id": "A2Hg-CA8ROyj",
        "colab_type": "code",
        "colab": {}
      },
      "source": [
        "import torch\n",
        "import torch.nn as nn\n",
        "import torch.optim as optim\n",
        "import numpy as np"
      ],
      "execution_count": 0,
      "outputs": []
    },
    {
      "cell_type": "code",
      "metadata": {
        "id": "VdT8Klv_VA2O",
        "colab_type": "code",
        "colab": {}
      },
      "source": [
        "n_hidden = 35\n",
        "lr = 0.01\n",
        "epochs = 1000"
      ],
      "execution_count": 0,
      "outputs": []
    },
    {
      "cell_type": "code",
      "metadata": {
        "id": "cd14HHKDVHh5",
        "colab_type": "code",
        "colab": {}
      },
      "source": [
        "string = \"hello pytorch. how long can a rnn cell remember?\"\n",
        "chars = \"abcdefghijklmnopqrstuvwxyz ?!.,:;01\"\n",
        "char_list = [i for i in chars]\n",
        "n_letters = len(char_list)"
      ],
      "execution_count": 0,
      "outputs": []
    },
    {
      "cell_type": "code",
      "metadata": {
        "id": "355abKkiVXKJ",
        "colab_type": "code",
        "colab": {}
      },
      "source": [
        "# 원핫 벡터로 변환\n",
        "def string_to_onehot(string):\n",
        "  start = np.zeros(shape=len(char_list), dtype=int)\n",
        "  end = np.zeros(shape=len(char_list), dtype=int)\n",
        "  start[-2] = 1\n",
        "  end[-1] = 1\n",
        "  for i in string:\n",
        "    idx = char_list.index(i)\n",
        "    zero = np.zeros(shape=n_letters, dtype=int)\n",
        "    zero[idx]=1\n",
        "    start = np.vstack([start, zero])\n",
        "  output = np.vstack([start, end])\n",
        "  return output"
      ],
      "execution_count": 0,
      "outputs": []
    },
    {
      "cell_type": "code",
      "metadata": {
        "id": "KLNRpm58WJVP",
        "colab_type": "code",
        "colab": {}
      },
      "source": [
        "def onehot_to_word(onehot_1):\n",
        "  onehot = torch.Tensor.numpy(onehot_1)\n",
        "  return char_list[onehot.argmax()]"
      ],
      "execution_count": 0,
      "outputs": []
    },
    {
      "cell_type": "code",
      "metadata": {
        "id": "BuZBeyDDWXwe",
        "colab_type": "code",
        "colab": {}
      },
      "source": [
        "class RNN(nn.Module):\n",
        "  def __init__(self, input_size, hidden_size, output_size):\n",
        "    super(RNN, self).__init__()\n",
        "\n",
        "    self.input_size = input_size\n",
        "    self.hidden_size = hidden_size\n",
        "    self.output_size = output_size\n",
        "\n",
        "    self.i2h = nn.Linear(input_size, hidden_size)\n",
        "    self.h2h = nn.Linear(hidden_size, hidden_size)\n",
        "    self.i2o = nn.Linear(hidden_size, output_size)\n",
        "    self.act_fn = nn.Tanh()\n",
        "\n",
        "  def forward(self, input, hidden):\n",
        "    hidden = self.act_fn(self.i2h(input)+self.h2h(hidden))\n",
        "    output = self.i2o(hidden)\n",
        "    return output, hidden\n",
        "\n",
        "  def init_hidden(self):\n",
        "    return torch.zeros(1, self.hidden_size)"
      ],
      "execution_count": 0,
      "outputs": []
    },
    {
      "cell_type": "code",
      "metadata": {
        "id": "Cj77jEjgXIjm",
        "colab_type": "code",
        "colab": {}
      },
      "source": [
        "rnn = RNN(n_letters, n_hidden, n_letters)"
      ],
      "execution_count": 0,
      "outputs": []
    },
    {
      "cell_type": "code",
      "metadata": {
        "id": "ya1CZkiVXi0s",
        "colab_type": "code",
        "colab": {}
      },
      "source": [
        "loss_func = nn.MSELoss()\n",
        "optimizer = torch.optim.Adam(rnn.parameters(), lr=lr)"
      ],
      "execution_count": 0,
      "outputs": []
    },
    {
      "cell_type": "code",
      "metadata": {
        "id": "J3eqX2C_XqnR",
        "colab_type": "code",
        "colab": {
          "base_uri": "https://localhost:8080/",
          "height": 1000
        },
        "outputId": "7801f115-8c41-46fc-d415-32d0d50470aa"
      },
      "source": [
        "one_hot = torch.from_numpy(string_to_onehot(string)).type_as(torch.FloatTensor())\n",
        "\n",
        "for i in range(epochs):\n",
        "  rnn.zero_grad()\n",
        "  total_loss = 0\n",
        "  hidden = rnn.init_hidden()\n",
        "\n",
        "  for j in range(one_hot.size()[0]-1):\n",
        "    input_ = one_hot[j:j+1,:]\n",
        "    target = one_hot[j+1]\n",
        "\n",
        "    output, hidden = rnn.forward(input_, hidden)\n",
        "    loss = loss_func(output.view(-1), target.view(-1))\n",
        "    total_loss += loss\n",
        "    input_ = output\n",
        "\n",
        "  total_loss.backward()\n",
        "  optimizer.step()\n",
        "\n",
        "  if i % 10  == 0:\n",
        "    print(total_loss)"
      ],
      "execution_count": 9,
      "outputs": [
        {
          "output_type": "stream",
          "text": [
            "tensor(2.5972, grad_fn=<AddBackward0>)\n",
            "tensor(0.9801, grad_fn=<AddBackward0>)\n",
            "tensor(0.6594, grad_fn=<AddBackward0>)\n",
            "tensor(0.4487, grad_fn=<AddBackward0>)\n",
            "tensor(0.3038, grad_fn=<AddBackward0>)\n",
            "tensor(0.2293, grad_fn=<AddBackward0>)\n",
            "tensor(0.1713, grad_fn=<AddBackward0>)\n",
            "tensor(0.1444, grad_fn=<AddBackward0>)\n",
            "tensor(0.1242, grad_fn=<AddBackward0>)\n",
            "tensor(0.0964, grad_fn=<AddBackward0>)\n",
            "tensor(0.0824, grad_fn=<AddBackward0>)\n",
            "tensor(0.0713, grad_fn=<AddBackward0>)\n",
            "tensor(0.0729, grad_fn=<AddBackward0>)\n",
            "tensor(0.0603, grad_fn=<AddBackward0>)\n",
            "tensor(0.0523, grad_fn=<AddBackward0>)\n",
            "tensor(0.0469, grad_fn=<AddBackward0>)\n",
            "tensor(0.0509, grad_fn=<AddBackward0>)\n",
            "tensor(0.0457, grad_fn=<AddBackward0>)\n",
            "tensor(0.0386, grad_fn=<AddBackward0>)\n",
            "tensor(0.0356, grad_fn=<AddBackward0>)\n",
            "tensor(0.0414, grad_fn=<AddBackward0>)\n",
            "tensor(0.0328, grad_fn=<AddBackward0>)\n",
            "tensor(0.0296, grad_fn=<AddBackward0>)\n",
            "tensor(0.0277, grad_fn=<AddBackward0>)\n",
            "tensor(0.0351, grad_fn=<AddBackward0>)\n",
            "tensor(0.0260, grad_fn=<AddBackward0>)\n",
            "tensor(0.0240, grad_fn=<AddBackward0>)\n",
            "tensor(0.0221, grad_fn=<AddBackward0>)\n",
            "tensor(0.0260, grad_fn=<AddBackward0>)\n",
            "tensor(0.0224, grad_fn=<AddBackward0>)\n",
            "tensor(0.0201, grad_fn=<AddBackward0>)\n",
            "tensor(0.0186, grad_fn=<AddBackward0>)\n",
            "tensor(0.0173, grad_fn=<AddBackward0>)\n",
            "tensor(0.0313, grad_fn=<AddBackward0>)\n",
            "tensor(0.0276, grad_fn=<AddBackward0>)\n",
            "tensor(0.0203, grad_fn=<AddBackward0>)\n",
            "tensor(0.0175, grad_fn=<AddBackward0>)\n",
            "tensor(0.0158, grad_fn=<AddBackward0>)\n",
            "tensor(0.0148, grad_fn=<AddBackward0>)\n",
            "tensor(0.0203, grad_fn=<AddBackward0>)\n",
            "tensor(0.0145, grad_fn=<AddBackward0>)\n",
            "tensor(0.0130, grad_fn=<AddBackward0>)\n",
            "tensor(0.0126, grad_fn=<AddBackward0>)\n",
            "tensor(0.0125, grad_fn=<AddBackward0>)\n",
            "tensor(0.0128, grad_fn=<AddBackward0>)\n",
            "tensor(0.0115, grad_fn=<AddBackward0>)\n",
            "tensor(0.0107, grad_fn=<AddBackward0>)\n",
            "tensor(0.0101, grad_fn=<AddBackward0>)\n",
            "tensor(0.0247, grad_fn=<AddBackward0>)\n",
            "tensor(0.0122, grad_fn=<AddBackward0>)\n",
            "tensor(0.0096, grad_fn=<AddBackward0>)\n",
            "tensor(0.0091, grad_fn=<AddBackward0>)\n",
            "tensor(0.0085, grad_fn=<AddBackward0>)\n",
            "tensor(0.0081, grad_fn=<AddBackward0>)\n",
            "tensor(0.0087, grad_fn=<AddBackward0>)\n",
            "tensor(0.0156, grad_fn=<AddBackward0>)\n",
            "tensor(0.0089, grad_fn=<AddBackward0>)\n",
            "tensor(0.0079, grad_fn=<AddBackward0>)\n",
            "tensor(0.0073, grad_fn=<AddBackward0>)\n",
            "tensor(0.0069, grad_fn=<AddBackward0>)\n",
            "tensor(0.0065, grad_fn=<AddBackward0>)\n",
            "tensor(0.0098, grad_fn=<AddBackward0>)\n",
            "tensor(0.0113, grad_fn=<AddBackward0>)\n",
            "tensor(0.0073, grad_fn=<AddBackward0>)\n",
            "tensor(0.0066, grad_fn=<AddBackward0>)\n",
            "tensor(0.0060, grad_fn=<AddBackward0>)\n",
            "tensor(0.0063, grad_fn=<AddBackward0>)\n",
            "tensor(0.0143, grad_fn=<AddBackward0>)\n",
            "tensor(0.0073, grad_fn=<AddBackward0>)\n",
            "tensor(0.0063, grad_fn=<AddBackward0>)\n",
            "tensor(0.0055, grad_fn=<AddBackward0>)\n",
            "tensor(0.0052, grad_fn=<AddBackward0>)\n",
            "tensor(0.0049, grad_fn=<AddBackward0>)\n",
            "tensor(0.0098, grad_fn=<AddBackward0>)\n",
            "tensor(0.0118, grad_fn=<AddBackward0>)\n",
            "tensor(0.0068, grad_fn=<AddBackward0>)\n",
            "tensor(0.0054, grad_fn=<AddBackward0>)\n",
            "tensor(0.0048, grad_fn=<AddBackward0>)\n",
            "tensor(0.0045, grad_fn=<AddBackward0>)\n",
            "tensor(0.0105, grad_fn=<AddBackward0>)\n",
            "tensor(0.0060, grad_fn=<AddBackward0>)\n",
            "tensor(0.0048, grad_fn=<AddBackward0>)\n",
            "tensor(0.0041, grad_fn=<AddBackward0>)\n",
            "tensor(0.0039, grad_fn=<AddBackward0>)\n",
            "tensor(0.0037, grad_fn=<AddBackward0>)\n",
            "tensor(0.0036, grad_fn=<AddBackward0>)\n",
            "tensor(0.0293, grad_fn=<AddBackward0>)\n",
            "tensor(0.0078, grad_fn=<AddBackward0>)\n",
            "tensor(0.0051, grad_fn=<AddBackward0>)\n",
            "tensor(0.0040, grad_fn=<AddBackward0>)\n",
            "tensor(0.0036, grad_fn=<AddBackward0>)\n",
            "tensor(0.0034, grad_fn=<AddBackward0>)\n",
            "tensor(0.0032, grad_fn=<AddBackward0>)\n",
            "tensor(0.0031, grad_fn=<AddBackward0>)\n",
            "tensor(0.0030, grad_fn=<AddBackward0>)\n",
            "tensor(0.0059, grad_fn=<AddBackward0>)\n",
            "tensor(0.0063, grad_fn=<AddBackward0>)\n",
            "tensor(0.0041, grad_fn=<AddBackward0>)\n",
            "tensor(0.0032, grad_fn=<AddBackward0>)\n",
            "tensor(0.0041, grad_fn=<AddBackward0>)\n"
          ],
          "name": "stdout"
        }
      ]
    },
    {
      "cell_type": "code",
      "metadata": {
        "id": "4IgjVX5Tc8O_",
        "colab_type": "code",
        "colab": {
          "base_uri": "https://localhost:8080/",
          "height": 34
        },
        "outputId": "9b89eee4-cec1-404b-e1f8-9d28075f90c8"
      },
      "source": [
        "start = torch.zeros(1, len(char_list))\n",
        "start[:,-2] = 1\n",
        "\n",
        "with torch.no_grad():\n",
        "  hidden = rnn.init_hidden()\n",
        "  input_ = start\n",
        "  output_string = \"\"\n",
        "  for i in range(len(string)):\n",
        "    output, hidden = rnn.forward(input_, hidden)\n",
        "    output_string += onehot_to_word(output.data)\n",
        "    input_ = output\n",
        "\n",
        "print(output_string)"
      ],
      "execution_count": 10,
      "outputs": [
        {
          "output_type": "stream",
          "text": [
            "hello pye rne rnng rnn  rnnhernng rnnh rnne lrnn\n"
          ],
          "name": "stdout"
        }
      ]
    },
    {
      "cell_type": "code",
      "metadata": {
        "id": "D_A0hLn6dxNe",
        "colab_type": "code",
        "colab": {}
      },
      "source": [
        ""
      ],
      "execution_count": 0,
      "outputs": []
    }
  ]
}