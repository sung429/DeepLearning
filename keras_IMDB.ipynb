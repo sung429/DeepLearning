{
  "nbformat": 4,
  "nbformat_minor": 0,
  "metadata": {
    "colab": {
      "name": "keras_IMDB.ipynb",
      "provenance": [],
      "include_colab_link": true
    },
    "kernelspec": {
      "name": "python3",
      "display_name": "Python 3"
    },
    "accelerator": "GPU"
  },
  "cells": [
    {
      "cell_type": "markdown",
      "metadata": {
        "id": "view-in-github",
        "colab_type": "text"
      },
      "source": [
        "<a href=\"https://colab.research.google.com/github/sung429/DeepLearning/blob/master/keras_IMDB.ipynb\" target=\"_parent\"><img src=\"https://colab.research.google.com/assets/colab-badge.svg\" alt=\"Open In Colab\"/></a>"
      ]
    },
    {
      "cell_type": "code",
      "metadata": {
        "id": "4WpC5gOkuYOY",
        "colab_type": "code",
        "colab": {}
      },
      "source": [
        ""
      ],
      "execution_count": 0,
      "outputs": []
    },
    {
      "cell_type": "code",
      "metadata": {
        "id": "TZcyvZvmgiFS",
        "colab_type": "code",
        "colab": {}
      },
      "source": [
        "from keras.datasets import imdb"
      ],
      "execution_count": 0,
      "outputs": []
    },
    {
      "cell_type": "code",
      "metadata": {
        "id": "7CBlGDBtnzRs",
        "colab_type": "code",
        "colab": {
          "base_uri": "https://localhost:8080/",
          "height": 52
        },
        "outputId": "691d2c49-e365-47b5-8a53-e1683dbfe006"
      },
      "source": [
        "(train_data, train_labels),(test_data, test_labels) = imdb.load_data(num_words=10000)"
      ],
      "execution_count": 2,
      "outputs": [
        {
          "output_type": "stream",
          "text": [
            "Downloading data from https://s3.amazonaws.com/text-datasets/imdb.npz\n",
            "17465344/17464789 [==============================] - 1s 0us/step\n"
          ],
          "name": "stdout"
        }
      ]
    },
    {
      "cell_type": "code",
      "metadata": {
        "id": "MJNXjcDroCR5",
        "colab_type": "code",
        "colab": {
          "base_uri": "https://localhost:8080/",
          "height": 34
        },
        "outputId": "b144386d-5037-4b71-aecd-fff762d1a168"
      },
      "source": [
        "train_data.shape"
      ],
      "execution_count": 3,
      "outputs": [
        {
          "output_type": "execute_result",
          "data": {
            "text/plain": [
              "(25000,)"
            ]
          },
          "metadata": {
            "tags": []
          },
          "execution_count": 3
        }
      ]
    },
    {
      "cell_type": "code",
      "metadata": {
        "id": "E4Kah6fjoJiJ",
        "colab_type": "code",
        "colab": {
          "base_uri": "https://localhost:8080/",
          "height": 34
        },
        "outputId": "0b78783c-f017-498d-aec4-165c8e8a0a8f"
      },
      "source": [
        "test_data.shape"
      ],
      "execution_count": 4,
      "outputs": [
        {
          "output_type": "execute_result",
          "data": {
            "text/plain": [
              "(25000,)"
            ]
          },
          "metadata": {
            "tags": []
          },
          "execution_count": 4
        }
      ]
    },
    {
      "cell_type": "code",
      "metadata": {
        "id": "HQL7pj_3oKic",
        "colab_type": "code",
        "colab": {
          "base_uri": "https://localhost:8080/",
          "height": 34
        },
        "outputId": "46516922-e7a9-4f16-aaf1-32f8f7dd642a"
      },
      "source": [
        "type(train_labels)"
      ],
      "execution_count": 5,
      "outputs": [
        {
          "output_type": "execute_result",
          "data": {
            "text/plain": [
              "numpy.ndarray"
            ]
          },
          "metadata": {
            "tags": []
          },
          "execution_count": 5
        }
      ]
    },
    {
      "cell_type": "code",
      "metadata": {
        "id": "x40ELsLJoQZs",
        "colab_type": "code",
        "colab": {}
      },
      "source": [
        "import numpy as np"
      ],
      "execution_count": 0,
      "outputs": []
    },
    {
      "cell_type": "code",
      "metadata": {
        "id": "NNiCu2AtoRsR",
        "colab_type": "code",
        "colab": {
          "base_uri": "https://localhost:8080/",
          "height": 34
        },
        "outputId": "7406c759-e233-453f-c60c-e667bfda8fe8"
      },
      "source": [
        "np.bincount(train_labels)"
      ],
      "execution_count": 7,
      "outputs": [
        {
          "output_type": "execute_result",
          "data": {
            "text/plain": [
              "array([12500, 12500])"
            ]
          },
          "metadata": {
            "tags": []
          },
          "execution_count": 7
        }
      ]
    },
    {
      "cell_type": "code",
      "metadata": {
        "id": "akvirpIcoT3J",
        "colab_type": "code",
        "colab": {
          "base_uri": "https://localhost:8080/",
          "height": 34
        },
        "outputId": "bf6f2a6b-fc2a-4e3f-dc53-1cf5507e06cd"
      },
      "source": [
        "max([max(sequence) for sequence in train_data])"
      ],
      "execution_count": 11,
      "outputs": [
        {
          "output_type": "execute_result",
          "data": {
            "text/plain": [
              "9999"
            ]
          },
          "metadata": {
            "tags": []
          },
          "execution_count": 11
        }
      ]
    },
    {
      "cell_type": "code",
      "metadata": {
        "id": "EwhF6oceogb5",
        "colab_type": "code",
        "colab": {
          "base_uri": "https://localhost:8080/",
          "height": 52
        },
        "outputId": "af646397-431c-4206-ae16-0be0effeafdc"
      },
      "source": [
        "word_index = imdb.get_word_index()\n",
        "reverse_word_index = dict(\n",
        "    [(value, key) for (key, value) in word_index.items()]\n",
        ")\n",
        "decoded_review = ' '.join(\n",
        "    [reverse_word_index.get(i - 3, '?') for i in train_data[0]] # 0, 1, 2 는 패딩, 문서 시작, 사전에 없음이므로 3을 뺌\n",
        ")"
      ],
      "execution_count": 12,
      "outputs": [
        {
          "output_type": "stream",
          "text": [
            "Downloading data from https://s3.amazonaws.com/text-datasets/imdb_word_index.json\n",
            "1646592/1641221 [==============================] - 1s 0us/step\n"
          ],
          "name": "stdout"
        }
      ]
    },
    {
      "cell_type": "code",
      "metadata": {
        "id": "MwW9lxJdp0Lf",
        "colab_type": "code",
        "colab": {
          "base_uri": "https://localhost:8080/",
          "height": 54
        },
        "outputId": "d337d893-f1ee-4498-9390-dea089a32a2f"
      },
      "source": [
        "decoded_review"
      ],
      "execution_count": 13,
      "outputs": [
        {
          "output_type": "execute_result",
          "data": {
            "text/plain": [
              "\"? this film was just brilliant casting location scenery story direction everyone's really suited the part they played and you could just imagine being there robert ? is an amazing actor and now the same being director ? father came from the same scottish island as myself so i loved the fact there was a real connection with this film the witty remarks throughout the film were great it was just brilliant so much that i bought the film as soon as it was released for ? and would recommend it to everyone to watch and the fly fishing was amazing really cried at the end it was so sad and you know what they say if you cry at a film it must have been good and this definitely was also ? to the two little boy's that played the ? of norman and paul they were just brilliant children are often left out of the ? list i think because the stars that play them all grown up are such a big profile for the whole film but these children are amazing and should be praised for what they have done don't you think the whole story was so lovely because it was true and was someone's life after all that was shared with us all\""
            ]
          },
          "metadata": {
            "tags": []
          },
          "execution_count": 13
        }
      ]
    },
    {
      "cell_type": "code",
      "metadata": {
        "id": "Hy5XXoOtp3Gy",
        "colab_type": "code",
        "colab": {}
      },
      "source": [
        "def vectorize_sequences(sequences, dimension=10000):\n",
        "  results = np.zeros((len(sequences),dimension))\n",
        "  for i, sequence in enumerate(sequences):\n",
        "    results[i, sequence] = 1.\n",
        "  return results\n",
        "\n",
        "x_train = vectorize_sequences(train_data)\n",
        "x_test = vectorize_sequences(test_data)"
      ],
      "execution_count": 0,
      "outputs": []
    },
    {
      "cell_type": "code",
      "metadata": {
        "id": "80ReJOuRsM-_",
        "colab_type": "code",
        "colab": {
          "base_uri": "https://localhost:8080/",
          "height": 34
        },
        "outputId": "0e9c6c03-5087-4cba-dbe0-6d90c68edf07"
      },
      "source": [
        "x_train.shape"
      ],
      "execution_count": 15,
      "outputs": [
        {
          "output_type": "execute_result",
          "data": {
            "text/plain": [
              "(25000, 10000)"
            ]
          },
          "metadata": {
            "tags": []
          },
          "execution_count": 15
        }
      ]
    },
    {
      "cell_type": "code",
      "metadata": {
        "id": "7dss_60Fsr-9",
        "colab_type": "code",
        "colab": {
          "base_uri": "https://localhost:8080/",
          "height": 34
        },
        "outputId": "3317c6ab-743e-4062-8f46-705f57beb678"
      },
      "source": [
        "x_test.shape"
      ],
      "execution_count": 16,
      "outputs": [
        {
          "output_type": "execute_result",
          "data": {
            "text/plain": [
              "(25000, 10000)"
            ]
          },
          "metadata": {
            "tags": []
          },
          "execution_count": 16
        }
      ]
    },
    {
      "cell_type": "code",
      "metadata": {
        "id": "up-ylrawsteM",
        "colab_type": "code",
        "colab": {
          "base_uri": "https://localhost:8080/",
          "height": 34
        },
        "outputId": "fcb59758-a56a-4f87-d39a-ea71cd02ea9a"
      },
      "source": [
        "x_train[0].shape"
      ],
      "execution_count": 21,
      "outputs": [
        {
          "output_type": "execute_result",
          "data": {
            "text/plain": [
              "(10000,)"
            ]
          },
          "metadata": {
            "tags": []
          },
          "execution_count": 21
        }
      ]
    },
    {
      "cell_type": "code",
      "metadata": {
        "id": "_VpgC5Ggsvnb",
        "colab_type": "code",
        "colab": {
          "base_uri": "https://localhost:8080/",
          "height": 34
        },
        "outputId": "378d0f79-3bf0-4511-ecfa-7f53a2fe138a"
      },
      "source": [
        "np.bincount(x_train[0].astype('int64'))"
      ],
      "execution_count": 20,
      "outputs": [
        {
          "output_type": "execute_result",
          "data": {
            "text/plain": [
              "array([9880,  120])"
            ]
          },
          "metadata": {
            "tags": []
          },
          "execution_count": 20
        }
      ]
    },
    {
      "cell_type": "code",
      "metadata": {
        "id": "jdwyL5dgszIh",
        "colab_type": "code",
        "colab": {
          "base_uri": "https://localhost:8080/",
          "height": 54
        },
        "outputId": "33de4f81-206c-45e0-d061-a9e5ce467c4b"
      },
      "source": [
        "for i, sequence in enumerate(train_data):\n",
        "  results = np.zeros((25000,10000))\n",
        "  results[i, sequence] = 1.\n",
        "  print(sequence)\n",
        "  break"
      ],
      "execution_count": 29,
      "outputs": [
        {
          "output_type": "stream",
          "text": [
            "[1, 14, 22, 16, 43, 530, 973, 1622, 1385, 65, 458, 4468, 66, 3941, 4, 173, 36, 256, 5, 25, 100, 43, 838, 112, 50, 670, 2, 9, 35, 480, 284, 5, 150, 4, 172, 112, 167, 2, 336, 385, 39, 4, 172, 4536, 1111, 17, 546, 38, 13, 447, 4, 192, 50, 16, 6, 147, 2025, 19, 14, 22, 4, 1920, 4613, 469, 4, 22, 71, 87, 12, 16, 43, 530, 38, 76, 15, 13, 1247, 4, 22, 17, 515, 17, 12, 16, 626, 18, 2, 5, 62, 386, 12, 8, 316, 8, 106, 5, 4, 2223, 5244, 16, 480, 66, 3785, 33, 4, 130, 12, 16, 38, 619, 5, 25, 124, 51, 36, 135, 48, 25, 1415, 33, 6, 22, 12, 215, 28, 77, 52, 5, 14, 407, 16, 82, 2, 8, 4, 107, 117, 5952, 15, 256, 4, 2, 7, 3766, 5, 723, 36, 71, 43, 530, 476, 26, 400, 317, 46, 7, 4, 2, 1029, 13, 104, 88, 4, 381, 15, 297, 98, 32, 2071, 56, 26, 141, 6, 194, 7486, 18, 4, 226, 22, 21, 134, 476, 26, 480, 5, 144, 30, 5535, 18, 51, 36, 28, 224, 92, 25, 104, 4, 226, 65, 16, 38, 1334, 88, 12, 16, 283, 5, 16, 4472, 113, 103, 32, 15, 16, 5345, 19, 178, 32]\n"
          ],
          "name": "stdout"
        }
      ]
    },
    {
      "cell_type": "code",
      "metadata": {
        "id": "E-OcK6WEtCSx",
        "colab_type": "code",
        "colab": {
          "base_uri": "https://localhost:8080/",
          "height": 247
        },
        "outputId": "aa06130a-70ad-47ce-a8e5-d520346627dc"
      },
      "source": [
        "results[0, sequence]"
      ],
      "execution_count": 30,
      "outputs": [
        {
          "output_type": "execute_result",
          "data": {
            "text/plain": [
              "array([1., 1., 1., 1., 1., 1., 1., 1., 1., 1., 1., 1., 1., 1., 1., 1., 1.,\n",
              "       1., 1., 1., 1., 1., 1., 1., 1., 1., 1., 1., 1., 1., 1., 1., 1., 1.,\n",
              "       1., 1., 1., 1., 1., 1., 1., 1., 1., 1., 1., 1., 1., 1., 1., 1., 1.,\n",
              "       1., 1., 1., 1., 1., 1., 1., 1., 1., 1., 1., 1., 1., 1., 1., 1., 1.,\n",
              "       1., 1., 1., 1., 1., 1., 1., 1., 1., 1., 1., 1., 1., 1., 1., 1., 1.,\n",
              "       1., 1., 1., 1., 1., 1., 1., 1., 1., 1., 1., 1., 1., 1., 1., 1., 1.,\n",
              "       1., 1., 1., 1., 1., 1., 1., 1., 1., 1., 1., 1., 1., 1., 1., 1., 1.,\n",
              "       1., 1., 1., 1., 1., 1., 1., 1., 1., 1., 1., 1., 1., 1., 1., 1., 1.,\n",
              "       1., 1., 1., 1., 1., 1., 1., 1., 1., 1., 1., 1., 1., 1., 1., 1., 1.,\n",
              "       1., 1., 1., 1., 1., 1., 1., 1., 1., 1., 1., 1., 1., 1., 1., 1., 1.,\n",
              "       1., 1., 1., 1., 1., 1., 1., 1., 1., 1., 1., 1., 1., 1., 1., 1., 1.,\n",
              "       1., 1., 1., 1., 1., 1., 1., 1., 1., 1., 1., 1., 1., 1., 1., 1., 1.,\n",
              "       1., 1., 1., 1., 1., 1., 1., 1., 1., 1., 1., 1., 1., 1.])"
            ]
          },
          "metadata": {
            "tags": []
          },
          "execution_count": 30
        }
      ]
    },
    {
      "cell_type": "code",
      "metadata": {
        "id": "8wh77Vf7t8XX",
        "colab_type": "code",
        "colab": {
          "base_uri": "https://localhost:8080/",
          "height": 34
        },
        "outputId": "426b9b8a-5c57-43f8-9ffb-febe6ab2cca4"
      },
      "source": [
        "results[0,[1,2]]"
      ],
      "execution_count": 32,
      "outputs": [
        {
          "output_type": "execute_result",
          "data": {
            "text/plain": [
              "array([1., 1.])"
            ]
          },
          "metadata": {
            "tags": []
          },
          "execution_count": 32
        }
      ]
    },
    {
      "cell_type": "code",
      "metadata": {
        "id": "LnhwaFcKuQQ5",
        "colab_type": "code",
        "colab": {
          "base_uri": "https://localhost:8080/",
          "height": 34
        },
        "outputId": "0e346d8f-2fae-4199-c12f-337250174b21"
      },
      "source": [
        "type(x_train)"
      ],
      "execution_count": 33,
      "outputs": [
        {
          "output_type": "execute_result",
          "data": {
            "text/plain": [
              "numpy.ndarray"
            ]
          },
          "metadata": {
            "tags": []
          },
          "execution_count": 33
        }
      ]
    },
    {
      "cell_type": "code",
      "metadata": {
        "id": "HhmSB8r0uZk2",
        "colab_type": "code",
        "colab": {
          "base_uri": "https://localhost:8080/",
          "height": 34
        },
        "outputId": "3cd32f36-b218-4992-e2d8-ccda1eb7bf26"
      },
      "source": [
        "type(train_labels)"
      ],
      "execution_count": 34,
      "outputs": [
        {
          "output_type": "execute_result",
          "data": {
            "text/plain": [
              "numpy.ndarray"
            ]
          },
          "metadata": {
            "tags": []
          },
          "execution_count": 34
        }
      ]
    },
    {
      "cell_type": "code",
      "metadata": {
        "id": "iySLJGYZuH7B",
        "colab_type": "code",
        "colab": {}
      },
      "source": [
        "y_train = np.asarray(train_labels).astype('float32')\n",
        "y_test = np.asarray(test_labels).astype('float32')"
      ],
      "execution_count": 0,
      "outputs": []
    },
    {
      "cell_type": "code",
      "metadata": {
        "id": "H1deDvCAud4Y",
        "colab_type": "code",
        "colab": {}
      },
      "source": [
        "from keras import models\n",
        "from keras import layers"
      ],
      "execution_count": 0,
      "outputs": []
    },
    {
      "cell_type": "code",
      "metadata": {
        "id": "F9H5f9KAyFXO",
        "colab_type": "code",
        "colab": {
          "base_uri": "https://localhost:8080/",
          "height": 123
        },
        "outputId": "1a43c7e1-3045-4b51-fe7f-16679b253c0a"
      },
      "source": [
        "model = models.Sequential()\n",
        "model.add(layers.Dense(16, activation='relu',input_shape=(10000,)))\n",
        "model.add(layers.Dense(16, activation='relu'))\n",
        "model.add(layers.Dense(1, activation='sigmoid'))"
      ],
      "execution_count": 37,
      "outputs": [
        {
          "output_type": "stream",
          "text": [
            "WARNING:tensorflow:From /usr/local/lib/python3.6/dist-packages/keras/backend/tensorflow_backend.py:66: The name tf.get_default_graph is deprecated. Please use tf.compat.v1.get_default_graph instead.\n",
            "\n",
            "WARNING:tensorflow:From /usr/local/lib/python3.6/dist-packages/keras/backend/tensorflow_backend.py:541: The name tf.placeholder is deprecated. Please use tf.compat.v1.placeholder instead.\n",
            "\n",
            "WARNING:tensorflow:From /usr/local/lib/python3.6/dist-packages/keras/backend/tensorflow_backend.py:4432: The name tf.random_uniform is deprecated. Please use tf.random.uniform instead.\n",
            "\n"
          ],
          "name": "stdout"
        }
      ]
    },
    {
      "cell_type": "code",
      "metadata": {
        "id": "OdVpqg5Xyl2V",
        "colab_type": "code",
        "colab": {
          "base_uri": "https://localhost:8080/",
          "height": 141
        },
        "outputId": "326b7072-c11a-4ce4-9679-9e852f71bfee"
      },
      "source": [
        "model.compile(optimizer='rmsprop',\n",
        "              loss='binary_crossentropy',\n",
        "              metrics=['accuracy'])"
      ],
      "execution_count": 38,
      "outputs": [
        {
          "output_type": "stream",
          "text": [
            "WARNING:tensorflow:From /usr/local/lib/python3.6/dist-packages/keras/optimizers.py:793: The name tf.train.Optimizer is deprecated. Please use tf.compat.v1.train.Optimizer instead.\n",
            "\n",
            "WARNING:tensorflow:From /usr/local/lib/python3.6/dist-packages/keras/backend/tensorflow_backend.py:3657: The name tf.log is deprecated. Please use tf.math.log instead.\n",
            "\n",
            "WARNING:tensorflow:From /usr/local/lib/python3.6/dist-packages/tensorflow_core/python/ops/nn_impl.py:183: where (from tensorflow.python.ops.array_ops) is deprecated and will be removed in a future version.\n",
            "Instructions for updating:\n",
            "Use tf.where in 2.0, which has the same broadcast rule as np.where\n"
          ],
          "name": "stdout"
        }
      ]
    },
    {
      "cell_type": "code",
      "metadata": {
        "id": "u6m7Vk06zSGg",
        "colab_type": "code",
        "colab": {}
      },
      "source": [
        "x_val = x_train[:10000]\n",
        "partial_x_train = x_train[10000:]\n",
        "y_val = y_train[:10000]\n",
        "partial_y_train = y_train[10000:]"
      ],
      "execution_count": 0,
      "outputs": []
    },
    {
      "cell_type": "code",
      "metadata": {
        "id": "CsEg1js8zwHo",
        "colab_type": "code",
        "colab": {
          "base_uri": "https://localhost:8080/",
          "height": 1000
        },
        "outputId": "b56e8f19-f72c-4e60-c630-2d954a4d8ec3"
      },
      "source": [
        "history = model.fit(partial_x_train,\n",
        "                    partial_y_train,\n",
        "                    epochs=20,\n",
        "                    batch_size=512,\n",
        "                    validation_data=(x_val, y_val))"
      ],
      "execution_count": 43,
      "outputs": [
        {
          "output_type": "stream",
          "text": [
            "WARNING:tensorflow:From /usr/local/lib/python3.6/dist-packages/keras/backend/tensorflow_backend.py:1033: The name tf.assign_add is deprecated. Please use tf.compat.v1.assign_add instead.\n",
            "\n",
            "WARNING:tensorflow:From /usr/local/lib/python3.6/dist-packages/keras/backend/tensorflow_backend.py:1020: The name tf.assign is deprecated. Please use tf.compat.v1.assign instead.\n",
            "\n",
            "WARNING:tensorflow:From /usr/local/lib/python3.6/dist-packages/keras/backend/tensorflow_backend.py:3005: The name tf.Session is deprecated. Please use tf.compat.v1.Session instead.\n",
            "\n",
            "Train on 15000 samples, validate on 10000 samples\n",
            "Epoch 1/20\n",
            "WARNING:tensorflow:From /usr/local/lib/python3.6/dist-packages/keras/backend/tensorflow_backend.py:190: The name tf.get_default_session is deprecated. Please use tf.compat.v1.get_default_session instead.\n",
            "\n",
            "WARNING:tensorflow:From /usr/local/lib/python3.6/dist-packages/keras/backend/tensorflow_backend.py:197: The name tf.ConfigProto is deprecated. Please use tf.compat.v1.ConfigProto instead.\n",
            "\n",
            "WARNING:tensorflow:From /usr/local/lib/python3.6/dist-packages/keras/backend/tensorflow_backend.py:207: The name tf.global_variables is deprecated. Please use tf.compat.v1.global_variables instead.\n",
            "\n",
            "WARNING:tensorflow:From /usr/local/lib/python3.6/dist-packages/keras/backend/tensorflow_backend.py:216: The name tf.is_variable_initialized is deprecated. Please use tf.compat.v1.is_variable_initialized instead.\n",
            "\n",
            "WARNING:tensorflow:From /usr/local/lib/python3.6/dist-packages/keras/backend/tensorflow_backend.py:223: The name tf.variables_initializer is deprecated. Please use tf.compat.v1.variables_initializer instead.\n",
            "\n",
            "15000/15000 [==============================] - 5s 361us/step - loss: 0.5069 - acc: 0.7807 - val_loss: 0.3834 - val_acc: 0.8663\n",
            "Epoch 2/20\n",
            "15000/15000 [==============================] - 1s 73us/step - loss: 0.3004 - acc: 0.9017 - val_loss: 0.3031 - val_acc: 0.8877\n",
            "Epoch 3/20\n",
            "15000/15000 [==============================] - 1s 75us/step - loss: 0.2172 - acc: 0.9280 - val_loss: 0.2968 - val_acc: 0.8823\n",
            "Epoch 4/20\n",
            "15000/15000 [==============================] - 1s 73us/step - loss: 0.1735 - acc: 0.9440 - val_loss: 0.2749 - val_acc: 0.8898\n",
            "Epoch 5/20\n",
            "15000/15000 [==============================] - 1s 73us/step - loss: 0.1432 - acc: 0.9537 - val_loss: 0.2881 - val_acc: 0.8881\n",
            "Epoch 6/20\n",
            "15000/15000 [==============================] - 1s 74us/step - loss: 0.1197 - acc: 0.9633 - val_loss: 0.2931 - val_acc: 0.8865\n",
            "Epoch 7/20\n",
            "15000/15000 [==============================] - 1s 73us/step - loss: 0.0954 - acc: 0.9731 - val_loss: 0.3144 - val_acc: 0.8820\n",
            "Epoch 8/20\n",
            "15000/15000 [==============================] - 1s 74us/step - loss: 0.0805 - acc: 0.9766 - val_loss: 0.3308 - val_acc: 0.8818\n",
            "Epoch 9/20\n",
            "15000/15000 [==============================] - 1s 75us/step - loss: 0.0668 - acc: 0.9822 - val_loss: 0.3603 - val_acc: 0.8784\n",
            "Epoch 10/20\n",
            "15000/15000 [==============================] - 1s 74us/step - loss: 0.0558 - acc: 0.9858 - val_loss: 0.4056 - val_acc: 0.8725\n",
            "Epoch 11/20\n",
            "15000/15000 [==============================] - 1s 76us/step - loss: 0.0464 - acc: 0.9888 - val_loss: 0.4186 - val_acc: 0.8734\n",
            "Epoch 12/20\n",
            "15000/15000 [==============================] - 1s 76us/step - loss: 0.0371 - acc: 0.9915 - val_loss: 0.4315 - val_acc: 0.8741\n",
            "Epoch 13/20\n",
            "15000/15000 [==============================] - 1s 72us/step - loss: 0.0299 - acc: 0.9939 - val_loss: 0.4671 - val_acc: 0.8722\n",
            "Epoch 14/20\n",
            "15000/15000 [==============================] - 1s 74us/step - loss: 0.0252 - acc: 0.9948 - val_loss: 0.5028 - val_acc: 0.8692\n",
            "Epoch 15/20\n",
            "15000/15000 [==============================] - 1s 74us/step - loss: 0.0203 - acc: 0.9967 - val_loss: 0.5178 - val_acc: 0.8711\n",
            "Epoch 16/20\n",
            "15000/15000 [==============================] - 1s 72us/step - loss: 0.0149 - acc: 0.9983 - val_loss: 0.5481 - val_acc: 0.8704\n",
            "Epoch 17/20\n",
            "15000/15000 [==============================] - 1s 80us/step - loss: 0.0146 - acc: 0.9974 - val_loss: 0.5810 - val_acc: 0.8690\n",
            "Epoch 18/20\n",
            "15000/15000 [==============================] - 1s 75us/step - loss: 0.0070 - acc: 0.9998 - val_loss: 0.6050 - val_acc: 0.8688\n",
            "Epoch 19/20\n",
            "15000/15000 [==============================] - 1s 73us/step - loss: 0.0069 - acc: 0.9999 - val_loss: 0.6542 - val_acc: 0.8659\n",
            "Epoch 20/20\n",
            "15000/15000 [==============================] - 1s 75us/step - loss: 0.0076 - acc: 0.9989 - val_loss: 0.6821 - val_acc: 0.8662\n"
          ],
          "name": "stdout"
        }
      ]
    },
    {
      "cell_type": "code",
      "metadata": {
        "id": "aaM79pww0OJ6",
        "colab_type": "code",
        "colab": {}
      },
      "source": [
        "history_dict = history.history"
      ],
      "execution_count": 0,
      "outputs": []
    },
    {
      "cell_type": "code",
      "metadata": {
        "id": "MV6MtJfh0bzJ",
        "colab_type": "code",
        "colab": {
          "base_uri": "https://localhost:8080/",
          "height": 34
        },
        "outputId": "abca023d-ffee-4d60-bd6e-9a81c1dbcb79"
      },
      "source": [
        "history_dict.keys()"
      ],
      "execution_count": 45,
      "outputs": [
        {
          "output_type": "execute_result",
          "data": {
            "text/plain": [
              "dict_keys(['val_loss', 'val_acc', 'loss', 'acc'])"
            ]
          },
          "metadata": {
            "tags": []
          },
          "execution_count": 45
        }
      ]
    },
    {
      "cell_type": "code",
      "metadata": {
        "id": "z6F-Sh0J0dZY",
        "colab_type": "code",
        "colab": {}
      },
      "source": [
        "import matplotlib.pyplot as plt"
      ],
      "execution_count": 0,
      "outputs": []
    },
    {
      "cell_type": "code",
      "metadata": {
        "id": "aWlPmWsD0hXk",
        "colab_type": "code",
        "colab": {
          "base_uri": "https://localhost:8080/",
          "height": 294
        },
        "outputId": "4229fa69-d6f6-43e8-c4f8-7fd113dad6ed"
      },
      "source": [
        "loss = history_dict['loss']\n",
        "val_loss = history_dict['val_loss']\n",
        "\n",
        "epochs = range(1, len(loss) + 1)\n",
        "\n",
        "plt.plot(epochs, loss, 'bo', label='Training loss')\n",
        "plt.plot(epochs, val_loss, 'b', label='Validation loss')\n",
        "plt.title('Training and validation loss')\n",
        "plt.xlabel('Epochs')\n",
        "plt.ylabel('Loss')\n",
        "plt.legend()\n",
        "\n",
        "plt.show()"
      ],
      "execution_count": 47,
      "outputs": [
        {
          "output_type": "display_data",
          "data": {
            "image/png": "[encoded data removed]",
            "text/plain": [
              "<Figure size 432x288 with 1 Axes>"
            ]
          },
          "metadata": {
            "tags": []
          }
        }
      ]
    },
    {
      "cell_type": "code",
      "metadata": {
        "id": "7kL7CXCr1IpV",
        "colab_type": "code",
        "colab": {
          "base_uri": "https://localhost:8080/",
          "height": 294
        },
        "outputId": "6deddedd-18a3-4cdd-8d3b-06e49c4f464e"
      },
      "source": [
        "plt.clf()\n",
        "acc = history_dict['acc']\n",
        "val_acc = history_dict['val_acc']\n",
        "\n",
        "plt.plot(epochs, acc, 'bo', label='Training acc')\n",
        "plt.plot(epochs, val_acc, 'b', label='Validation acc')\n",
        "plt.title('Training and validation accuracy')\n",
        "plt.xlabel('Epochs')\n",
        "plt.ylabel('Accuracy')\n",
        "plt.legend()\n",
        "\n",
        "plt.show()"
      ],
      "execution_count": 48,
      "outputs": [
        {
          "output_type": "display_data",
          "data": {
            "image/png": "[encoded data removed]",
            "text/plain": [
              "<Figure size 432x288 with 1 Axes>"
            ]
          },
          "metadata": {
            "tags": []
          }
        }
      ]
    },
    {
      "cell_type": "code",
      "metadata": {
        "id": "HvIHP0TI10i_",
        "colab_type": "code",
        "colab": {
          "base_uri": "https://localhost:8080/",
          "height": 141
        },
        "outputId": "a9c8ee59-22a6-4e3d-f797-b2c3ea69ce72"
      },
      "source": [
        "model.predict(x_test)"
      ],
      "execution_count": 49,
      "outputs": [
        {
          "output_type": "execute_result",
          "data": {
            "text/plain": [
              "array([[0.00263584],\n",
              "       [0.99999964],\n",
              "       [0.10760641],\n",
              "       ...,\n",
              "       [0.00234881],\n",
              "       [0.00725222],\n",
              "       [0.5632432 ]], dtype=float32)"
            ]
          },
          "metadata": {
            "tags": []
          },
          "execution_count": 49
        }
      ]
    },
    {
      "cell_type": "code",
      "metadata": {
        "id": "V0xcXDWp2wG6",
        "colab_type": "code",
        "colab": {
          "base_uri": "https://localhost:8080/",
          "height": 781
        },
        "outputId": "4f344f13-b9ae-40ba-fee8-4e66c8eeab1e"
      },
      "source": [
        "# 1개의 hidden layer\n",
        "model = models.Sequential()\n",
        "model.add(layers.Dense(16, activation='relu',input_shape=(10000,)))\n",
        "# model.add(layers.Dense(16, activation='relu'))\n",
        "model.add(layers.Dense(1, activation='sigmoid'))\n",
        "\n",
        "model.compile(optimizer='rmsprop',\n",
        "              loss='binary_crossentropy',\n",
        "              metrics=['accuracy'])\n",
        "\n",
        "history = model.fit(partial_x_train,\n",
        "                    partial_y_train,\n",
        "                    epochs=20,\n",
        "                    batch_size=512,\n",
        "                    validation_data=(x_val, y_val))\n",
        "model.evaluate(x_test,y_test)"
      ],
      "execution_count": 51,
      "outputs": [
        {
          "output_type": "stream",
          "text": [
            "Train on 15000 samples, validate on 10000 samples\n",
            "Epoch 1/20\n",
            "15000/15000 [==============================] - 1s 90us/step - loss: 0.5110 - acc: 0.7970 - val_loss: 0.4011 - val_acc: 0.8689\n",
            "Epoch 2/20\n",
            "15000/15000 [==============================] - 1s 76us/step - loss: 0.3309 - acc: 0.9007 - val_loss: 0.3269 - val_acc: 0.8828\n",
            "Epoch 3/20\n",
            "15000/15000 [==============================] - 1s 75us/step - loss: 0.2568 - acc: 0.9223 - val_loss: 0.2937 - val_acc: 0.8897\n",
            "Epoch 4/20\n",
            "15000/15000 [==============================] - 1s 75us/step - loss: 0.2104 - acc: 0.9363 - val_loss: 0.2787 - val_acc: 0.8904\n",
            "Epoch 5/20\n",
            "15000/15000 [==============================] - 1s 75us/step - loss: 0.1782 - acc: 0.9458 - val_loss: 0.2729 - val_acc: 0.8903\n",
            "Epoch 6/20\n",
            "15000/15000 [==============================] - 1s 77us/step - loss: 0.1550 - acc: 0.9551 - val_loss: 0.2739 - val_acc: 0.8902\n",
            "Epoch 7/20\n",
            "15000/15000 [==============================] - 1s 76us/step - loss: 0.1363 - acc: 0.9614 - val_loss: 0.2807 - val_acc: 0.8873\n",
            "Epoch 8/20\n",
            "15000/15000 [==============================] - 1s 75us/step - loss: 0.1200 - acc: 0.9648 - val_loss: 0.2906 - val_acc: 0.8863\n",
            "Epoch 9/20\n",
            "15000/15000 [==============================] - 1s 77us/step - loss: 0.1059 - acc: 0.9713 - val_loss: 0.2914 - val_acc: 0.8863\n",
            "Epoch 10/20\n",
            "15000/15000 [==============================] - 1s 75us/step - loss: 0.0941 - acc: 0.9755 - val_loss: 0.3026 - val_acc: 0.8831\n",
            "Epoch 11/20\n",
            "15000/15000 [==============================] - 1s 77us/step - loss: 0.0835 - acc: 0.9787 - val_loss: 0.3201 - val_acc: 0.8840\n",
            "Epoch 12/20\n",
            "15000/15000 [==============================] - 1s 78us/step - loss: 0.0743 - acc: 0.9809 - val_loss: 0.3305 - val_acc: 0.8824\n",
            "Epoch 13/20\n",
            "15000/15000 [==============================] - 1s 76us/step - loss: 0.0661 - acc: 0.9840 - val_loss: 0.3370 - val_acc: 0.8803\n",
            "Epoch 14/20\n",
            "15000/15000 [==============================] - 1s 77us/step - loss: 0.0585 - acc: 0.9881 - val_loss: 0.3607 - val_acc: 0.8757\n",
            "Epoch 15/20\n",
            "15000/15000 [==============================] - 1s 76us/step - loss: 0.0522 - acc: 0.9889 - val_loss: 0.3688 - val_acc: 0.8775\n",
            "Epoch 16/20\n",
            "15000/15000 [==============================] - 1s 75us/step - loss: 0.0465 - acc: 0.9913 - val_loss: 0.3819 - val_acc: 0.8771\n",
            "Epoch 17/20\n",
            "15000/15000 [==============================] - 1s 77us/step - loss: 0.0400 - acc: 0.9931 - val_loss: 0.4094 - val_acc: 0.8739\n",
            "Epoch 18/20\n",
            "15000/15000 [==============================] - 1s 77us/step - loss: 0.0361 - acc: 0.9945 - val_loss: 0.4141 - val_acc: 0.8750\n",
            "Epoch 19/20\n",
            "15000/15000 [==============================] - 1s 76us/step - loss: 0.0318 - acc: 0.9952 - val_loss: 0.4351 - val_acc: 0.8708\n",
            "Epoch 20/20\n",
            "15000/15000 [==============================] - 1s 76us/step - loss: 0.0278 - acc: 0.9962 - val_loss: 0.4495 - val_acc: 0.8708\n",
            "25000/25000 [==============================] - 2s 76us/step\n"
          ],
          "name": "stdout"
        },
        {
          "output_type": "execute_result",
          "data": {
            "text/plain": [
              "[0.4880905333566666, 0.8594]"
            ]
          },
          "metadata": {
            "tags": []
          },
          "execution_count": 51
        }
      ]
    },
    {
      "cell_type": "code",
      "metadata": {
        "id": "IDVz--X-3P25",
        "colab_type": "code",
        "colab": {
          "base_uri": "https://localhost:8080/",
          "height": 781
        },
        "outputId": "e585b0ac-ed8b-442f-f56f-cd15e2414167"
      },
      "source": [
        "# 3개의 hidden layer\n",
        "model = models.Sequential()\n",
        "model.add(layers.Dense(16, activation='relu',input_shape=(10000,)))\n",
        "model.add(layers.Dense(16, activation='relu'))\n",
        "model.add(layers.Dense(16, activation='relu'))\n",
        "model.add(layers.Dense(1, activation='sigmoid'))\n",
        "\n",
        "model.compile(optimizer='rmsprop',\n",
        "              loss='binary_crossentropy',\n",
        "              metrics=['accuracy'])\n",
        "\n",
        "history = model.fit(partial_x_train,\n",
        "                    partial_y_train,\n",
        "                    epochs=20,\n",
        "                    batch_size=512,\n",
        "                    validation_data=(x_val, y_val))\n",
        "model.evaluate(x_test,y_test)"
      ],
      "execution_count": 52,
      "outputs": [
        {
          "output_type": "stream",
          "text": [
            "Train on 15000 samples, validate on 10000 samples\n",
            "Epoch 1/20\n",
            "15000/15000 [==============================] - 1s 94us/step - loss: 0.5377 - acc: 0.7681 - val_loss: 0.4006 - val_acc: 0.8611\n",
            "Epoch 2/20\n",
            "15000/15000 [==============================] - 1s 78us/step - loss: 0.3136 - acc: 0.8999 - val_loss: 0.3684 - val_acc: 0.8465\n",
            "Epoch 3/20\n",
            "15000/15000 [==============================] - 1s 77us/step - loss: 0.2215 - acc: 0.9270 - val_loss: 0.2963 - val_acc: 0.8854\n",
            "Epoch 4/20\n",
            "15000/15000 [==============================] - 1s 76us/step - loss: 0.1706 - acc: 0.9455 - val_loss: 0.3455 - val_acc: 0.8679\n",
            "Epoch 5/20\n",
            "15000/15000 [==============================] - 1s 78us/step - loss: 0.1397 - acc: 0.9559 - val_loss: 0.2937 - val_acc: 0.8861\n",
            "Epoch 6/20\n",
            "15000/15000 [==============================] - 1s 76us/step - loss: 0.1136 - acc: 0.9650 - val_loss: 0.3135 - val_acc: 0.8851\n",
            "Epoch 7/20\n",
            "15000/15000 [==============================] - 1s 77us/step - loss: 0.0880 - acc: 0.9742 - val_loss: 0.3380 - val_acc: 0.8789\n",
            "Epoch 8/20\n",
            "15000/15000 [==============================] - 1s 76us/step - loss: 0.0708 - acc: 0.9813 - val_loss: 0.3789 - val_acc: 0.8784\n",
            "Epoch 9/20\n",
            "15000/15000 [==============================] - 1s 77us/step - loss: 0.0598 - acc: 0.9844 - val_loss: 0.3923 - val_acc: 0.8795\n",
            "Epoch 10/20\n",
            "15000/15000 [==============================] - 1s 77us/step - loss: 0.0478 - acc: 0.9881 - val_loss: 0.4303 - val_acc: 0.8782\n",
            "Epoch 11/20\n",
            "15000/15000 [==============================] - 1s 76us/step - loss: 0.0412 - acc: 0.9890 - val_loss: 0.4506 - val_acc: 0.8762\n",
            "Epoch 12/20\n",
            "15000/15000 [==============================] - 1s 76us/step - loss: 0.0305 - acc: 0.9929 - val_loss: 0.5019 - val_acc: 0.8726\n",
            "Epoch 13/20\n",
            "15000/15000 [==============================] - 1s 77us/step - loss: 0.0223 - acc: 0.9951 - val_loss: 0.5151 - val_acc: 0.8729\n",
            "Epoch 14/20\n",
            "15000/15000 [==============================] - 1s 78us/step - loss: 0.0205 - acc: 0.9955 - val_loss: 0.5705 - val_acc: 0.8719\n",
            "Epoch 15/20\n",
            "15000/15000 [==============================] - 1s 78us/step - loss: 0.0100 - acc: 0.9989 - val_loss: 0.5692 - val_acc: 0.8702\n",
            "Epoch 16/20\n",
            "15000/15000 [==============================] - 1s 75us/step - loss: 0.0171 - acc: 0.9953 - val_loss: 0.6084 - val_acc: 0.8700\n",
            "Epoch 17/20\n",
            "15000/15000 [==============================] - 1s 77us/step - loss: 0.0060 - acc: 0.9995 - val_loss: 0.6267 - val_acc: 0.8691\n",
            "Epoch 18/20\n",
            "15000/15000 [==============================] - 1s 77us/step - loss: 0.0124 - acc: 0.9963 - val_loss: 0.6680 - val_acc: 0.8694\n",
            "Epoch 19/20\n",
            "15000/15000 [==============================] - 1s 76us/step - loss: 0.0034 - acc: 0.9996 - val_loss: 0.6957 - val_acc: 0.8698\n",
            "Epoch 20/20\n",
            "15000/15000 [==============================] - 1s 78us/step - loss: 0.0131 - acc: 0.9962 - val_loss: 0.7283 - val_acc: 0.8677\n",
            "25000/25000 [==============================] - 2s 76us/step\n"
          ],
          "name": "stdout"
        },
        {
          "output_type": "execute_result",
          "data": {
            "text/plain": [
              "[0.8116433194971084, 0.85092]"
            ]
          },
          "metadata": {
            "tags": []
          },
          "execution_count": 52
        }
      ]
    },
    {
      "cell_type": "code",
      "metadata": {
        "id": "xiPsRpEm3k9f",
        "colab_type": "code",
        "colab": {
          "base_uri": "https://localhost:8080/",
          "height": 781
        },
        "outputId": "6d7c8446-0192-4f52-9921-ff75b35c31ae"
      },
      "source": [
        "# 2개의 hidden layer\n",
        "model = models.Sequential()\n",
        "model.add(layers.Dense(16, activation='relu',input_shape=(10000,)))\n",
        "model.add(layers.Dense(16, activation='relu'))\n",
        "# model.add(layers.Dense(16, activation='relu'))\n",
        "model.add(layers.Dense(1, activation='sigmoid'))\n",
        "\n",
        "model.compile(optimizer='rmsprop',\n",
        "              loss='binary_crossentropy',\n",
        "              metrics=['accuracy'])\n",
        "\n",
        "history = model.fit(partial_x_train,\n",
        "                    partial_y_train,\n",
        "                    epochs=20,\n",
        "                    batch_size=512,\n",
        "                    validation_data=(x_val, y_val))\n",
        "model.evaluate(x_test,y_test)"
      ],
      "execution_count": 53,
      "outputs": [
        {
          "output_type": "stream",
          "text": [
            "Train on 15000 samples, validate on 10000 samples\n",
            "Epoch 1/20\n",
            "15000/15000 [==============================] - 1s 97us/step - loss: 0.5178 - acc: 0.7836 - val_loss: 0.3981 - val_acc: 0.8546\n",
            "Epoch 2/20\n",
            "15000/15000 [==============================] - 1s 76us/step - loss: 0.3063 - acc: 0.9030 - val_loss: 0.3087 - val_acc: 0.8851\n",
            "Epoch 3/20\n",
            "15000/15000 [==============================] - 1s 78us/step - loss: 0.2226 - acc: 0.9299 - val_loss: 0.2772 - val_acc: 0.8909\n",
            "Epoch 4/20\n",
            "15000/15000 [==============================] - 1s 78us/step - loss: 0.1727 - acc: 0.9451 - val_loss: 0.2944 - val_acc: 0.8803\n",
            "Epoch 5/20\n",
            "15000/15000 [==============================] - 1s 82us/step - loss: 0.1420 - acc: 0.9556 - val_loss: 0.2813 - val_acc: 0.8873\n",
            "Epoch 6/20\n",
            "15000/15000 [==============================] - 1s 77us/step - loss: 0.1152 - acc: 0.9655 - val_loss: 0.2958 - val_acc: 0.8851\n",
            "Epoch 7/20\n",
            "15000/15000 [==============================] - 1s 78us/step - loss: 0.0939 - acc: 0.9737 - val_loss: 0.3107 - val_acc: 0.8844\n",
            "Epoch 8/20\n",
            "15000/15000 [==============================] - 1s 76us/step - loss: 0.0775 - acc: 0.9792 - val_loss: 0.3588 - val_acc: 0.8760\n",
            "Epoch 9/20\n",
            "15000/15000 [==============================] - 1s 78us/step - loss: 0.0658 - acc: 0.9828 - val_loss: 0.3548 - val_acc: 0.8793\n",
            "Epoch 10/20\n",
            "15000/15000 [==============================] - 1s 74us/step - loss: 0.0513 - acc: 0.9876 - val_loss: 0.3877 - val_acc: 0.8752\n",
            "Epoch 11/20\n",
            "15000/15000 [==============================] - 1s 75us/step - loss: 0.0425 - acc: 0.9909 - val_loss: 0.4051 - val_acc: 0.8753\n",
            "Epoch 12/20\n",
            "15000/15000 [==============================] - 1s 75us/step - loss: 0.0330 - acc: 0.9930 - val_loss: 0.4309 - val_acc: 0.8748\n",
            "Epoch 13/20\n",
            "15000/15000 [==============================] - 1s 76us/step - loss: 0.0284 - acc: 0.9935 - val_loss: 0.4638 - val_acc: 0.8737\n",
            "Epoch 14/20\n",
            "15000/15000 [==============================] - 1s 76us/step - loss: 0.0202 - acc: 0.9967 - val_loss: 0.4904 - val_acc: 0.8741\n",
            "Epoch 15/20\n",
            "15000/15000 [==============================] - 1s 77us/step - loss: 0.0164 - acc: 0.9973 - val_loss: 0.5187 - val_acc: 0.8718\n",
            "Epoch 16/20\n",
            "15000/15000 [==============================] - 1s 76us/step - loss: 0.0104 - acc: 0.9993 - val_loss: 0.5559 - val_acc: 0.8704\n",
            "Epoch 17/20\n",
            "15000/15000 [==============================] - 1s 76us/step - loss: 0.0127 - acc: 0.9980 - val_loss: 0.5829 - val_acc: 0.8715\n",
            "Epoch 18/20\n",
            "15000/15000 [==============================] - 1s 75us/step - loss: 0.0088 - acc: 0.9985 - val_loss: 0.6187 - val_acc: 0.8684\n",
            "Epoch 19/20\n",
            "15000/15000 [==============================] - 1s 75us/step - loss: 0.0042 - acc: 0.9999 - val_loss: 0.6447 - val_acc: 0.8684\n",
            "Epoch 20/20\n",
            "15000/15000 [==============================] - 1s 76us/step - loss: 0.0056 - acc: 0.9995 - val_loss: 0.6665 - val_acc: 0.8686\n",
            "25000/25000 [==============================] - 2s 74us/step\n"
          ],
          "name": "stdout"
        },
        {
          "output_type": "execute_result",
          "data": {
            "text/plain": [
              "[0.7374479610776902, 0.85232]"
            ]
          },
          "metadata": {
            "tags": []
          },
          "execution_count": 53
        }
      ]
    },
    {
      "cell_type": "code",
      "metadata": {
        "id": "4AgfxZJE3ylH",
        "colab_type": "code",
        "colab": {
          "base_uri": "https://localhost:8080/",
          "height": 781
        },
        "outputId": "244ee019-c2ad-4b49-f8d8-03ce221156d0"
      },
      "source": [
        "# 1개의 hidden layer 32개 노드\n",
        "model = models.Sequential()\n",
        "model.add(layers.Dense(32, activation='relu',input_shape=(10000,)))\n",
        "# model.add(layers.Dense(16, activation='relu'))\n",
        "# model.add(layers.Dense(16, activation='relu'))\n",
        "model.add(layers.Dense(1, activation='sigmoid'))\n",
        "\n",
        "model.compile(optimizer='rmsprop',\n",
        "              loss='binary_crossentropy',\n",
        "              metrics=['accuracy'])\n",
        "\n",
        "history = model.fit(partial_x_train,\n",
        "                    partial_y_train,\n",
        "                    epochs=20,\n",
        "                    batch_size=512,\n",
        "                    validation_data=(x_val, y_val))\n",
        "model.evaluate(x_test,y_test)"
      ],
      "execution_count": 54,
      "outputs": [
        {
          "output_type": "stream",
          "text": [
            "Train on 15000 samples, validate on 10000 samples\n",
            "Epoch 1/20\n",
            "15000/15000 [==============================] - 1s 99us/step - loss: 0.4708 - acc: 0.8062 - val_loss: 0.3628 - val_acc: 0.8667\n",
            "Epoch 2/20\n",
            "15000/15000 [==============================] - 1s 77us/step - loss: 0.2862 - acc: 0.9072 - val_loss: 0.3034 - val_acc: 0.8859\n",
            "Epoch 3/20\n",
            "15000/15000 [==============================] - 1s 76us/step - loss: 0.2196 - acc: 0.9281 - val_loss: 0.2811 - val_acc: 0.8881\n",
            "Epoch 4/20\n",
            "15000/15000 [==============================] - 1s 76us/step - loss: 0.1772 - acc: 0.9431 - val_loss: 0.2951 - val_acc: 0.8797\n",
            "Epoch 5/20\n",
            "15000/15000 [==============================] - 1s 79us/step - loss: 0.1491 - acc: 0.9543 - val_loss: 0.2821 - val_acc: 0.8867\n",
            "Epoch 6/20\n",
            "15000/15000 [==============================] - 1s 76us/step - loss: 0.1269 - acc: 0.9631 - val_loss: 0.2852 - val_acc: 0.8857\n",
            "Epoch 7/20\n",
            "15000/15000 [==============================] - 1s 75us/step - loss: 0.1080 - acc: 0.9678 - val_loss: 0.3488 - val_acc: 0.8669\n",
            "Epoch 8/20\n",
            "15000/15000 [==============================] - 1s 75us/step - loss: 0.0958 - acc: 0.9732 - val_loss: 0.3196 - val_acc: 0.8791\n",
            "Epoch 9/20\n",
            "15000/15000 [==============================] - 1s 76us/step - loss: 0.0799 - acc: 0.9788 - val_loss: 0.3335 - val_acc: 0.8749\n",
            "Epoch 10/20\n",
            "15000/15000 [==============================] - 1s 76us/step - loss: 0.0692 - acc: 0.9832 - val_loss: 0.3418 - val_acc: 0.8769\n",
            "Epoch 11/20\n",
            "15000/15000 [==============================] - 1s 76us/step - loss: 0.0602 - acc: 0.9865 - val_loss: 0.3778 - val_acc: 0.8705\n",
            "Epoch 12/20\n",
            "15000/15000 [==============================] - 1s 78us/step - loss: 0.0517 - acc: 0.9883 - val_loss: 0.3748 - val_acc: 0.8785\n",
            "Epoch 13/20\n",
            "15000/15000 [==============================] - 1s 78us/step - loss: 0.0433 - acc: 0.9913 - val_loss: 0.4330 - val_acc: 0.8721\n",
            "Epoch 14/20\n",
            "15000/15000 [==============================] - 1s 80us/step - loss: 0.0364 - acc: 0.9937 - val_loss: 0.4211 - val_acc: 0.8749\n",
            "Epoch 15/20\n",
            "15000/15000 [==============================] - 1s 80us/step - loss: 0.0320 - acc: 0.9944 - val_loss: 0.4423 - val_acc: 0.8713\n",
            "Epoch 16/20\n",
            "15000/15000 [==============================] - 1s 79us/step - loss: 0.0267 - acc: 0.9962 - val_loss: 0.4898 - val_acc: 0.8636\n",
            "Epoch 17/20\n",
            "15000/15000 [==============================] - 1s 80us/step - loss: 0.0227 - acc: 0.9971 - val_loss: 0.4943 - val_acc: 0.8679\n",
            "Epoch 18/20\n",
            "15000/15000 [==============================] - 1s 79us/step - loss: 0.0183 - acc: 0.9979 - val_loss: 0.5233 - val_acc: 0.8687\n",
            "Epoch 19/20\n",
            "15000/15000 [==============================] - 1s 77us/step - loss: 0.0161 - acc: 0.9987 - val_loss: 0.5420 - val_acc: 0.8651\n",
            "Epoch 20/20\n",
            "15000/15000 [==============================] - 1s 76us/step - loss: 0.0131 - acc: 0.9993 - val_loss: 0.5670 - val_acc: 0.8655\n",
            "25000/25000 [==============================] - 2s 70us/step\n"
          ],
          "name": "stdout"
        },
        {
          "output_type": "execute_result",
          "data": {
            "text/plain": [
              "[0.614616737279892, 0.85264]"
            ]
          },
          "metadata": {
            "tags": []
          },
          "execution_count": 54
        }
      ]
    },
    {
      "cell_type": "code",
      "metadata": {
        "id": "0WhnwHyB3-1j",
        "colab_type": "code",
        "colab": {
          "base_uri": "https://localhost:8080/",
          "height": 781
        },
        "outputId": "aeef7db0-f887-4176-f09f-6f3b31ea88dd"
      },
      "source": [
        "# 1개의 hidden layer 64개 노드\n",
        "model = models.Sequential()\n",
        "model.add(layers.Dense(64, activation='relu',input_shape=(10000,)))\n",
        "# model.add(layers.Dense(16, activation='relu'))\n",
        "# model.add(layers.Dense(16, activation='relu'))\n",
        "model.add(layers.Dense(1, activation='sigmoid'))\n",
        "\n",
        "model.compile(optimizer='rmsprop',\n",
        "              loss='binary_crossentropy',\n",
        "              metrics=['accuracy'])\n",
        "\n",
        "history = model.fit(partial_x_train,\n",
        "                    partial_y_train,\n",
        "                    epochs=20,\n",
        "                    batch_size=512,\n",
        "                    validation_data=(x_val, y_val))\n",
        "model.evaluate(x_test,y_test)"
      ],
      "execution_count": 56,
      "outputs": [
        {
          "output_type": "stream",
          "text": [
            "Train on 15000 samples, validate on 10000 samples\n",
            "Epoch 1/20\n",
            "15000/15000 [==============================] - 2s 102us/step - loss: 0.4786 - acc: 0.7855 - val_loss: 0.3355 - val_acc: 0.8781\n",
            "Epoch 2/20\n",
            "15000/15000 [==============================] - 1s 77us/step - loss: 0.2643 - acc: 0.9093 - val_loss: 0.3110 - val_acc: 0.8733\n",
            "Epoch 3/20\n",
            "15000/15000 [==============================] - 1s 76us/step - loss: 0.1987 - acc: 0.9321 - val_loss: 0.2781 - val_acc: 0.8879\n",
            "Epoch 4/20\n",
            "15000/15000 [==============================] - 1s 78us/step - loss: 0.1551 - acc: 0.9512 - val_loss: 0.2997 - val_acc: 0.8795\n",
            "Epoch 5/20\n",
            "15000/15000 [==============================] - 1s 77us/step - loss: 0.1341 - acc: 0.9544 - val_loss: 0.2859 - val_acc: 0.8873\n",
            "Epoch 6/20\n",
            "15000/15000 [==============================] - 1s 77us/step - loss: 0.1102 - acc: 0.9651 - val_loss: 0.3000 - val_acc: 0.8856\n",
            "Epoch 7/20\n",
            "15000/15000 [==============================] - 1s 77us/step - loss: 0.0901 - acc: 0.9727 - val_loss: 0.3350 - val_acc: 0.8739\n",
            "Epoch 8/20\n",
            "15000/15000 [==============================] - 1s 77us/step - loss: 0.0760 - acc: 0.9787 - val_loss: 0.3383 - val_acc: 0.8784\n",
            "Epoch 9/20\n",
            "15000/15000 [==============================] - 1s 76us/step - loss: 0.0624 - acc: 0.9846 - val_loss: 0.3741 - val_acc: 0.8757\n",
            "Epoch 10/20\n",
            "15000/15000 [==============================] - 1s 78us/step - loss: 0.0561 - acc: 0.9861 - val_loss: 0.3859 - val_acc: 0.8774\n",
            "Epoch 11/20\n",
            "15000/15000 [==============================] - 1s 77us/step - loss: 0.0454 - acc: 0.9890 - val_loss: 0.4012 - val_acc: 0.8760\n",
            "Epoch 12/20\n",
            "15000/15000 [==============================] - 1s 77us/step - loss: 0.0363 - acc: 0.9925 - val_loss: 0.4247 - val_acc: 0.8738\n",
            "Epoch 13/20\n",
            "15000/15000 [==============================] - 1s 75us/step - loss: 0.0319 - acc: 0.9933 - val_loss: 0.4474 - val_acc: 0.8712\n",
            "Epoch 14/20\n",
            "15000/15000 [==============================] - 1s 76us/step - loss: 0.0253 - acc: 0.9963 - val_loss: 0.4738 - val_acc: 0.8712\n",
            "Epoch 15/20\n",
            "15000/15000 [==============================] - 1s 78us/step - loss: 0.0209 - acc: 0.9971 - val_loss: 0.5006 - val_acc: 0.8704\n",
            "Epoch 16/20\n",
            "15000/15000 [==============================] - 1s 76us/step - loss: 0.0205 - acc: 0.9965 - val_loss: 0.5275 - val_acc: 0.8701\n",
            "Epoch 17/20\n",
            "15000/15000 [==============================] - 1s 77us/step - loss: 0.0124 - acc: 0.9990 - val_loss: 0.5722 - val_acc: 0.8674\n",
            "Epoch 18/20\n",
            "15000/15000 [==============================] - 1s 76us/step - loss: 0.0138 - acc: 0.9980 - val_loss: 0.5757 - val_acc: 0.8681\n",
            "Epoch 19/20\n",
            "15000/15000 [==============================] - 1s 76us/step - loss: 0.0076 - acc: 0.9997 - val_loss: 0.6190 - val_acc: 0.8662\n",
            "Epoch 20/20\n",
            "15000/15000 [==============================] - 1s 78us/step - loss: 0.0084 - acc: 0.9994 - val_loss: 0.6369 - val_acc: 0.8641\n",
            "25000/25000 [==============================] - 2s 70us/step\n"
          ],
          "name": "stdout"
        },
        {
          "output_type": "execute_result",
          "data": {
            "text/plain": [
              "[0.7110301396512986, 0.8466]"
            ]
          },
          "metadata": {
            "tags": []
          },
          "execution_count": 56
        }
      ]
    },
    {
      "cell_type": "code",
      "metadata": {
        "id": "GjeYkIPf4JX3",
        "colab_type": "code",
        "colab": {
          "base_uri": "https://localhost:8080/",
          "height": 781
        },
        "outputId": "5cfe43ac-39ab-46ed-e3b0-b5eb39463134"
      },
      "source": [
        "# 1개의 hidden layer 16개 노드, mse\n",
        "model = models.Sequential()\n",
        "model.add(layers.Dense(16, activation='relu',input_shape=(10000,)))\n",
        "# model.add(layers.Dense(16, activation='relu'))\n",
        "# model.add(layers.Dense(16, activation='relu'))\n",
        "model.add(layers.Dense(1, activation='sigmoid'))\n",
        "\n",
        "model.compile(optimizer='rmsprop',\n",
        "              loss='mse',\n",
        "              metrics=['accuracy'])\n",
        "\n",
        "history = model.fit(partial_x_train,\n",
        "                    partial_y_train,\n",
        "                    epochs=20,\n",
        "                    batch_size=512,\n",
        "                    validation_data=(x_val, y_val))\n",
        "model.evaluate(x_test,y_test)"
      ],
      "execution_count": 57,
      "outputs": [
        {
          "output_type": "stream",
          "text": [
            "Train on 15000 samples, validate on 10000 samples\n",
            "Epoch 1/20\n",
            "15000/15000 [==============================] - 1s 100us/step - loss: 0.1641 - acc: 0.7957 - val_loss: 0.1203 - val_acc: 0.8723\n",
            "Epoch 2/20\n",
            "15000/15000 [==============================] - 1s 76us/step - loss: 0.0945 - acc: 0.9060 - val_loss: 0.1020 - val_acc: 0.8743\n",
            "Epoch 3/20\n",
            "15000/15000 [==============================] - 1s 76us/step - loss: 0.0709 - acc: 0.9301 - val_loss: 0.0889 - val_acc: 0.8910\n",
            "Epoch 4/20\n",
            "15000/15000 [==============================] - 1s 76us/step - loss: 0.0572 - acc: 0.9437 - val_loss: 0.0864 - val_acc: 0.8878\n",
            "Epoch 5/20\n",
            "15000/15000 [==============================] - 1s 75us/step - loss: 0.0475 - acc: 0.9540 - val_loss: 0.0861 - val_acc: 0.8870\n",
            "Epoch 6/20\n",
            "15000/15000 [==============================] - 1s 76us/step - loss: 0.0405 - acc: 0.9626 - val_loss: 0.0849 - val_acc: 0.8871\n",
            "Epoch 7/20\n",
            "15000/15000 [==============================] - 1s 74us/step - loss: 0.0354 - acc: 0.9680 - val_loss: 0.0878 - val_acc: 0.8807\n",
            "Epoch 8/20\n",
            "15000/15000 [==============================] - 1s 75us/step - loss: 0.0302 - acc: 0.9739 - val_loss: 0.0858 - val_acc: 0.8822\n",
            "Epoch 9/20\n",
            "15000/15000 [==============================] - 1s 76us/step - loss: 0.0269 - acc: 0.9773 - val_loss: 0.0860 - val_acc: 0.8815\n",
            "Epoch 10/20\n",
            "15000/15000 [==============================] - 1s 75us/step - loss: 0.0232 - acc: 0.9822 - val_loss: 0.0878 - val_acc: 0.8797\n",
            "Epoch 11/20\n",
            "15000/15000 [==============================] - 1s 75us/step - loss: 0.0211 - acc: 0.9832 - val_loss: 0.0883 - val_acc: 0.8808\n",
            "Epoch 12/20\n",
            "15000/15000 [==============================] - 1s 75us/step - loss: 0.0179 - acc: 0.9876 - val_loss: 0.0917 - val_acc: 0.8734\n",
            "Epoch 13/20\n",
            "15000/15000 [==============================] - 1s 73us/step - loss: 0.0163 - acc: 0.9880 - val_loss: 0.0917 - val_acc: 0.8777\n",
            "Epoch 14/20\n",
            "15000/15000 [==============================] - 1s 73us/step - loss: 0.0143 - acc: 0.9900 - val_loss: 0.0927 - val_acc: 0.8772\n",
            "Epoch 15/20\n",
            "15000/15000 [==============================] - 1s 73us/step - loss: 0.0125 - acc: 0.9922 - val_loss: 0.0945 - val_acc: 0.8749\n",
            "Epoch 16/20\n",
            "15000/15000 [==============================] - 1s 75us/step - loss: 0.0113 - acc: 0.9929 - val_loss: 0.0989 - val_acc: 0.8680\n",
            "Epoch 17/20\n",
            "15000/15000 [==============================] - 1s 72us/step - loss: 0.0098 - acc: 0.9942 - val_loss: 0.0974 - val_acc: 0.8726\n",
            "Epoch 18/20\n",
            "15000/15000 [==============================] - 1s 73us/step - loss: 0.0085 - acc: 0.9952 - val_loss: 0.0991 - val_acc: 0.8709\n",
            "Epoch 19/20\n",
            "15000/15000 [==============================] - 1s 74us/step - loss: 0.0074 - acc: 0.9958 - val_loss: 0.1011 - val_acc: 0.8688\n",
            "Epoch 20/20\n",
            "15000/15000 [==============================] - 1s 75us/step - loss: 0.0068 - acc: 0.9961 - val_loss: 0.1025 - val_acc: 0.8673\n",
            "25000/25000 [==============================] - 2s 65us/step\n"
          ],
          "name": "stdout"
        },
        {
          "output_type": "execute_result",
          "data": {
            "text/plain": [
              "[0.11310992898583412, 0.85376]"
            ]
          },
          "metadata": {
            "tags": []
          },
          "execution_count": 57
        }
      ]
    },
    {
      "cell_type": "code",
      "metadata": {
        "id": "dYj826Fb4ZM9",
        "colab_type": "code",
        "colab": {
          "base_uri": "https://localhost:8080/",
          "height": 781
        },
        "outputId": "932bea71-cafe-4deb-8d4e-0182d4f9abfa"
      },
      "source": [
        "# 1개의 hidden layer 16개 노드, mse\n",
        "model = models.Sequential()\n",
        "model.add(layers.Dense(16, activation='tanh',input_shape=(10000,)))\n",
        "# model.add(layers.Dense(16, activation='relu'))\n",
        "# model.add(layers.Dense(16, activation='relu'))\n",
        "model.add(layers.Dense(1, activation='sigmoid'))\n",
        "\n",
        "model.compile(optimizer='rmsprop',\n",
        "              loss='binary_crossentropy',\n",
        "              metrics=['accuracy'])\n",
        "\n",
        "history = model.fit(partial_x_train,\n",
        "                    partial_y_train,\n",
        "                    epochs=20,\n",
        "                    batch_size=512,\n",
        "                    validation_data=(x_val, y_val))\n",
        "model.evaluate(x_test,y_test)"
      ],
      "execution_count": 58,
      "outputs": [
        {
          "output_type": "stream",
          "text": [
            "Train on 15000 samples, validate on 10000 samples\n",
            "Epoch 1/20\n",
            "15000/15000 [==============================] - 2s 104us/step - loss: 0.4875 - acc: 0.8063 - val_loss: 0.3867 - val_acc: 0.8650\n",
            "Epoch 2/20\n",
            "15000/15000 [==============================] - 1s 77us/step - loss: 0.3126 - acc: 0.9032 - val_loss: 0.3157 - val_acc: 0.8863\n",
            "Epoch 3/20\n",
            "15000/15000 [==============================] - 1s 76us/step - loss: 0.2406 - acc: 0.9270 - val_loss: 0.2916 - val_acc: 0.8848\n",
            "Epoch 4/20\n",
            "15000/15000 [==============================] - 1s 75us/step - loss: 0.1948 - acc: 0.9411 - val_loss: 0.2838 - val_acc: 0.8848\n",
            "Epoch 5/20\n",
            "15000/15000 [==============================] - 1s 76us/step - loss: 0.1658 - acc: 0.9512 - val_loss: 0.2765 - val_acc: 0.8867\n",
            "Epoch 6/20\n",
            "15000/15000 [==============================] - 1s 76us/step - loss: 0.1403 - acc: 0.9593 - val_loss: 0.2767 - val_acc: 0.8900\n",
            "Epoch 7/20\n",
            "15000/15000 [==============================] - 1s 76us/step - loss: 0.1212 - acc: 0.9653 - val_loss: 0.2910 - val_acc: 0.8830\n",
            "Epoch 8/20\n",
            "15000/15000 [==============================] - 1s 76us/step - loss: 0.1044 - acc: 0.9710 - val_loss: 0.2985 - val_acc: 0.8834\n",
            "Epoch 9/20\n",
            "15000/15000 [==============================] - 1s 75us/step - loss: 0.0913 - acc: 0.9756 - val_loss: 0.3025 - val_acc: 0.8811\n",
            "Epoch 10/20\n",
            "15000/15000 [==============================] - 1s 76us/step - loss: 0.0783 - acc: 0.9807 - val_loss: 0.3141 - val_acc: 0.8817\n",
            "Epoch 11/20\n",
            "15000/15000 [==============================] - 1s 76us/step - loss: 0.0680 - acc: 0.9841 - val_loss: 0.3400 - val_acc: 0.8776\n",
            "Epoch 12/20\n",
            "15000/15000 [==============================] - 1s 80us/step - loss: 0.0600 - acc: 0.9870 - val_loss: 0.3755 - val_acc: 0.8669\n",
            "Epoch 13/20\n",
            "15000/15000 [==============================] - 1s 78us/step - loss: 0.0498 - acc: 0.9897 - val_loss: 0.3661 - val_acc: 0.8774\n",
            "Epoch 14/20\n",
            "15000/15000 [==============================] - 1s 76us/step - loss: 0.0433 - acc: 0.9914 - val_loss: 0.3840 - val_acc: 0.8736\n",
            "Epoch 15/20\n",
            "15000/15000 [==============================] - 1s 78us/step - loss: 0.0374 - acc: 0.9937 - val_loss: 0.4067 - val_acc: 0.8749\n",
            "Epoch 16/20\n",
            "15000/15000 [==============================] - 1s 77us/step - loss: 0.0318 - acc: 0.9946 - val_loss: 0.4247 - val_acc: 0.8709\n",
            "Epoch 17/20\n",
            "15000/15000 [==============================] - 1s 76us/step - loss: 0.0265 - acc: 0.9956 - val_loss: 0.4709 - val_acc: 0.8629\n",
            "Epoch 18/20\n",
            "15000/15000 [==============================] - 1s 76us/step - loss: 0.0229 - acc: 0.9973 - val_loss: 0.4742 - val_acc: 0.8665\n",
            "Epoch 19/20\n",
            "15000/15000 [==============================] - 1s 76us/step - loss: 0.0187 - acc: 0.9979 - val_loss: 0.4991 - val_acc: 0.8696\n",
            "Epoch 20/20\n",
            "15000/15000 [==============================] - 1s 75us/step - loss: 0.0159 - acc: 0.9985 - val_loss: 0.5186 - val_acc: 0.8650\n",
            "25000/25000 [==============================] - 2s 70us/step\n"
          ],
          "name": "stdout"
        },
        {
          "output_type": "execute_result",
          "data": {
            "text/plain": [
              "[0.5737330675029755, 0.85104]"
            ]
          },
          "metadata": {
            "tags": []
          },
          "execution_count": 58
        }
      ]
    },
    {
      "cell_type": "code",
      "metadata": {
        "id": "Wj2LF4VB4qe_",
        "colab_type": "code",
        "colab": {}
      },
      "source": [
        ""
      ],
      "execution_count": 0,
      "outputs": []
    }
  ]
}