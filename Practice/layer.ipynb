{
 "cells": [
  {
   "cell_type": "code",
   "execution_count": 1,
   "metadata": {},
   "outputs": [],
   "source": [
    "import torch\n",
    "from torchvision import datasets, transforms"
   ]
  },
  {
   "cell_type": "code",
   "execution_count": 4,
   "metadata": {},
   "outputs": [],
   "source": [
    "from PIL import Image\n",
    "import numpy as np\n",
    "import matplotlib.pyplot as plt\n",
    "\n",
    "%matplotlib inline"
   ]
  },
  {
   "cell_type": "code",
   "execution_count": 5,
   "metadata": {},
   "outputs": [],
   "source": [
    "train_loader = torch.utils.data.DataLoader(\n",
    "    datasets.MNIST('dataset', train=True, download=True,\n",
    "                  transform=transforms.Compose([\n",
    "                      transforms.ToTensor()\n",
    "                  ])),\n",
    "    batch_size=1)"
   ]
  },
  {
   "cell_type": "code",
   "execution_count": 6,
   "metadata": {},
   "outputs": [],
   "source": [
    "image, label = next(iter(train_loader))"
   ]
  },
  {
   "cell_type": "code",
   "execution_count": 7,
   "metadata": {},
   "outputs": [
    {
     "data": {
      "text/plain": [
       "(torch.Size([1, 1, 28, 28]), torch.Size([1]))"
      ]
     },
     "execution_count": 7,
     "metadata": {},
     "output_type": "execute_result"
    }
   ],
   "source": [
    "image.shape, label.shape"
   ]
  },
  {
   "cell_type": "code",
   "execution_count": 11,
   "metadata": {},
   "outputs": [
    {
     "data": {
      "text/plain": [
       "<matplotlib.image.AxesImage at 0x265866a4f60>"
      ]
     },
     "execution_count": 11,
     "metadata": {},
     "output_type": "execute_result"
    },
    {
     "data": {
      "image/png": "[encoded data removed]",
      "text/plain": [
       "<Figure size 432x288 with 1 Axes>"
      ]
     },
     "metadata": {
      "needs_background": "light"
     },
     "output_type": "display_data"
    }
   ],
   "source": [
    "plt.imshow(image.squeeze(),'gray')"
   ]
  },
  {
   "cell_type": "markdown",
   "metadata": {},
   "source": [
    "## Layer별 설명"
   ]
  },
  {
   "cell_type": "code",
   "execution_count": 12,
   "metadata": {},
   "outputs": [],
   "source": [
    "import torch\n",
    "import torch.nn as nn\n",
    "import torch.nn.functional as F\n",
    "import torch.optim as optim"
   ]
  },
  {
   "cell_type": "markdown",
   "metadata": {},
   "source": [
    "### Convolution\n",
    "- in_channels : 받게 될 channel의 갯수\n",
    "- out_channels : 보내고 싶은 channels의 갯수\n",
    "- kernel_size : 만들고 싶은 kernel(weights)의 사이즈"
   ]
  },
  {
   "cell_type": "code",
   "execution_count": 13,
   "metadata": {},
   "outputs": [
    {
     "data": {
      "text/plain": [
       "Conv2d(1, 20, kernel_size=(5, 5), stride=(1, 1))"
      ]
     },
     "execution_count": 13,
     "metadata": {},
     "output_type": "execute_result"
    }
   ],
   "source": [
    "nn.Conv2d(in_channels=1, out_channels=20, kernel_size=5, stride=1)"
   ]
  },
  {
   "cell_type": "code",
   "execution_count": 14,
   "metadata": {},
   "outputs": [
    {
     "data": {
      "text/plain": [
       "Conv2d(1, 20, kernel_size=(5, 5), stride=(1, 1))"
      ]
     },
     "execution_count": 14,
     "metadata": {},
     "output_type": "execute_result"
    }
   ],
   "source": [
    "layer = nn.Conv2d(1, 20, 5, 1).to(torch.device('cpu'))\n",
    "layer"
   ]
  },
  {
   "cell_type": "markdown",
   "metadata": {},
   "source": [
    "- weight 시각화를 위해 slice하고 numpy화"
   ]
  },
  {
   "cell_type": "code",
   "execution_count": 16,
   "metadata": {},
   "outputs": [
    {
     "data": {
      "text/plain": [
       "torch.Size([20, 1, 5, 5])"
      ]
     },
     "execution_count": 16,
     "metadata": {},
     "output_type": "execute_result"
    }
   ],
   "source": [
    "weight = layer.weight\n",
    "weight.shape"
   ]
  },
  {
   "cell_type": "markdown",
   "metadata": {},
   "source": [
    "- 여기서 weight는 학습 가능한 상태이기 때문에 바로 numpy로 뽑아낼 수 없음\n",
    "- detach() method는 그래프에서 잠깐 빼서 gradient에 영향을 받지 않게 함"
   ]
  },
  {
   "cell_type": "code",
   "execution_count": 18,
   "metadata": {},
   "outputs": [
    {
     "data": {
      "text/plain": [
       "array([[[[-2.29615718e-02, -2.46254951e-02,  7.73974210e-02,\n",
       "          -1.74399853e-01, -8.74939710e-02],\n",
       "         [-1.90787539e-01, -1.31208748e-01, -1.74537346e-01,\n",
       "          -9.54869539e-02,  9.74870175e-02],\n",
       "         [ 5.93727976e-02, -1.87487900e-02,  8.13005120e-02,\n",
       "          -1.22359775e-01, -1.06964707e-01],\n",
       "         [-1.21227220e-01,  1.81291744e-01,  8.45657438e-02,\n",
       "           1.48926631e-01, -1.27959445e-01],\n",
       "         [-3.01838219e-02,  1.13115475e-01,  3.19240391e-02,\n",
       "          -7.19259232e-02, -2.14219391e-02]]],\n",
       "\n",
       "\n",
       "       [[[ 8.89060050e-02,  1.76546320e-01, -1.56152651e-01,\n",
       "          -1.81094557e-01,  2.61843950e-02],\n",
       "         [ 5.47403842e-02, -5.60591966e-02,  1.30766317e-01,\n",
       "           1.89436600e-01, -1.05289221e-01],\n",
       "         [ 1.18444845e-01,  2.05564201e-02, -1.13831811e-01,\n",
       "          -1.63357303e-01,  1.59688890e-02],\n",
       "         [-1.12004280e-01,  8.52005035e-02, -3.97689044e-02,\n",
       "           7.42359459e-03, -1.38905406e-01],\n",
       "         [-1.98792890e-01, -1.90400630e-01, -1.31538481e-01,\n",
       "          -1.88037708e-01,  1.28028288e-01]]],\n",
       "\n",
       "\n",
       "       [[[-3.66223752e-02,  8.44215304e-02,  8.48621279e-02,\n",
       "          -1.65047318e-01,  9.10817534e-02],\n",
       "         [-1.26379162e-01, -9.67373848e-02,  1.14496574e-01,\n",
       "           1.56590566e-01, -1.88583687e-01],\n",
       "         [ 6.71070963e-02,  1.62573755e-02, -1.86595514e-01,\n",
       "          -1.96339011e-01,  1.66633710e-01],\n",
       "         [ 1.91515550e-01,  1.75413296e-01, -2.47679204e-02,\n",
       "          -4.23899144e-02,  6.03281409e-02],\n",
       "         [-7.74643421e-02, -1.14367008e-01, -2.17806995e-02,\n",
       "          -1.93533659e-01,  3.14015448e-02]]],\n",
       "\n",
       "\n",
       "       [[[ 1.19274110e-02, -1.73995540e-01,  9.09283757e-03,\n",
       "           1.94561943e-01,  4.73338813e-02],\n",
       "         [-1.20640777e-01,  1.81779996e-01, -1.79585248e-01,\n",
       "          -1.81751177e-01, -2.57026404e-02],\n",
       "         [ 4.07828391e-02,  5.85560352e-02,  1.51654348e-01,\n",
       "           5.72545826e-03, -4.44676429e-02],\n",
       "         [ 1.56263486e-01, -1.01039432e-01, -1.99698851e-01,\n",
       "          -5.17421663e-02,  8.88344646e-03],\n",
       "         [-1.93707094e-01, -1.07871413e-01, -1.46431625e-02,\n",
       "           8.25856775e-02,  5.32586128e-02]]],\n",
       "\n",
       "\n",
       "       [[[ 1.27449021e-01,  2.10003853e-02, -1.25587881e-02,\n",
       "           4.22021449e-02, -1.47132427e-02],\n",
       "         [-7.35547543e-02,  9.86932367e-02,  1.87377408e-01,\n",
       "           7.66880661e-02,  8.33215564e-02],\n",
       "         [-3.80859077e-02,  8.81947428e-02,  7.23261982e-02,\n",
       "          -1.22192837e-01, -1.18386000e-02],\n",
       "         [ 7.89931267e-02, -1.13572620e-01, -1.97889850e-01,\n",
       "          -2.94575095e-03, -1.20960593e-01],\n",
       "         [-1.04857258e-01,  1.94474772e-01, -1.89337134e-01,\n",
       "           1.69879481e-01,  6.39006495e-04]]],\n",
       "\n",
       "\n",
       "       [[[ 6.28559440e-02,  1.30572602e-01,  4.95689362e-02,\n",
       "           2.76650637e-02,  7.70983845e-02],\n",
       "         [ 1.99850485e-01,  1.05958283e-02,  1.22342214e-01,\n",
       "          -9.23740193e-02,  1.71663299e-01],\n",
       "         [ 1.05224892e-01, -6.26985729e-02,  4.56978381e-02,\n",
       "          -1.26920134e-01, -1.24159455e-01],\n",
       "         [-1.21631719e-01, -2.92347372e-02, -2.63468474e-02,\n",
       "          -3.22222263e-02,  3.01148593e-02],\n",
       "         [-4.07887250e-02, -4.43030894e-02,  8.00188631e-02,\n",
       "          -1.78909302e-02, -1.81903958e-01]]],\n",
       "\n",
       "\n",
       "       [[[ 6.34300560e-02,  1.64417580e-01,  1.16412237e-01,\n",
       "           4.28407937e-02,  5.11096865e-02],\n",
       "         [-1.74716115e-03, -1.93804502e-04,  8.17045718e-02,\n",
       "           5.19414395e-02,  1.12209633e-01],\n",
       "         [ 1.10421881e-01,  1.56146631e-01,  7.40466565e-02,\n",
       "           1.26656756e-01, -1.00404195e-01],\n",
       "         [-1.46967053e-01,  4.88259792e-02, -1.88749745e-01,\n",
       "          -6.78782016e-02,  3.50039899e-02],\n",
       "         [ 2.58981735e-02, -1.49800509e-01, -7.46569037e-03,\n",
       "           1.11811563e-01, -1.82723626e-01]]],\n",
       "\n",
       "\n",
       "       [[[ 9.31881815e-02, -1.16619065e-01,  1.82268575e-01,\n",
       "           1.51848182e-01, -1.97475553e-01],\n",
       "         [ 2.14302987e-02,  1.30469725e-01, -8.45637918e-03,\n",
       "          -1.80781245e-01,  1.47905812e-01],\n",
       "         [ 1.93970934e-01, -2.98048556e-02, -9.79251862e-02,\n",
       "           3.76442075e-03, -8.19225311e-02],\n",
       "         [-1.19138360e-01,  2.41802931e-02, -5.23645878e-02,\n",
       "           7.50203580e-02, -1.29786581e-01],\n",
       "         [ 1.09470263e-01, -5.32780141e-02, -7.10281134e-02,\n",
       "          -1.84964731e-01, -7.02950954e-02]]],\n",
       "\n",
       "\n",
       "       [[[-2.54193544e-02, -5.70528209e-02,  1.70766249e-01,\n",
       "          -1.75054342e-01, -5.71921766e-02],\n",
       "         [-1.11532666e-01, -4.10898626e-02,  1.64510891e-01,\n",
       "           1.59836069e-01, -1.65315539e-01],\n",
       "         [ 1.97172061e-01, -7.75463805e-02, -3.77213508e-02,\n",
       "          -4.02167439e-04,  1.81677654e-01],\n",
       "         [-4.80182916e-02, -1.65712327e-01, -1.20163225e-01,\n",
       "           9.24865156e-02,  1.36731520e-01],\n",
       "         [-1.02603175e-01,  7.87875205e-02, -6.92282021e-02,\n",
       "          -3.44185531e-02, -8.56775269e-02]]],\n",
       "\n",
       "\n",
       "       [[[ 7.04614669e-02, -1.19919851e-01,  1.04953051e-02,\n",
       "          -1.67737573e-01, -1.56444430e-01],\n",
       "         [-1.76883578e-01, -6.36560917e-02, -1.01821207e-01,\n",
       "           1.31819203e-01, -9.49631706e-02],\n",
       "         [ 1.49305120e-01, -9.44361091e-03,  1.45673737e-01,\n",
       "           7.81876296e-02, -8.77211839e-02],\n",
       "         [-1.09127998e-01, -1.90224767e-01,  1.07326493e-01,\n",
       "          -6.91026151e-02, -1.20458268e-01],\n",
       "         [ 9.31593329e-02,  1.91614345e-01,  6.25773221e-02,\n",
       "           2.97713280e-02, -1.87387347e-01]]],\n",
       "\n",
       "\n",
       "       [[[-1.97584420e-01,  9.08085704e-03,  1.90170184e-01,\n",
       "           1.80898383e-01,  7.66212493e-02],\n",
       "         [-2.70600319e-02,  1.09955177e-01, -1.44641206e-01,\n",
       "          -6.76444471e-02, -1.08330272e-01],\n",
       "         [ 9.61167067e-02,  1.47969380e-01,  1.35013774e-01,\n",
       "          -2.39731818e-02,  6.70415908e-02],\n",
       "         [ 9.65056568e-02, -1.63499594e-01, -1.01034641e-02,\n",
       "           3.85499895e-02,  8.36623460e-02],\n",
       "         [-4.19492275e-02,  1.88649967e-01,  1.96306214e-01,\n",
       "          -1.96958423e-01,  6.17495626e-02]]],\n",
       "\n",
       "\n",
       "       [[[-9.21592936e-02, -1.38503522e-01,  1.53837070e-01,\n",
       "          -8.03494230e-02,  8.17272812e-02],\n",
       "         [ 1.65444151e-01, -5.19007444e-04,  1.75236121e-01,\n",
       "           6.14248663e-02,  5.43114543e-03],\n",
       "         [-2.44593918e-02,  1.68703213e-01,  2.48356164e-03,\n",
       "           6.19837493e-02, -1.88627511e-01],\n",
       "         [ 1.26562968e-01, -1.34195983e-02,  9.62357223e-03,\n",
       "          -9.25113931e-02,  1.91438779e-01],\n",
       "         [-1.61080047e-01, -5.98268211e-03,  1.86708421e-02,\n",
       "           6.62126690e-02, -1.64230108e-01]]],\n",
       "\n",
       "\n",
       "       [[[ 9.16097313e-02,  8.08749348e-02, -2.68965214e-02,\n",
       "          -9.22203809e-02,  9.90990549e-02],\n",
       "         [-9.79602858e-02,  1.17546812e-01,  2.17265785e-02,\n",
       "           1.35179564e-01,  3.63125801e-02],\n",
       "         [ 9.03414339e-02, -2.01960802e-02, -8.81516263e-02,\n",
       "          -1.63148195e-02,  2.04669535e-02],\n",
       "         [ 5.32320142e-03,  1.12638339e-01,  6.13236427e-03,\n",
       "          -1.62910059e-01, -1.10476330e-01],\n",
       "         [-1.85128570e-01,  1.63698331e-01, -3.28986347e-03,\n",
       "          -1.40813380e-01, -1.10944204e-01]]],\n",
       "\n",
       "\n",
       "       [[[-1.10511616e-01,  1.38114676e-01,  1.16135642e-01,\n",
       "           2.35883296e-02, -1.21963792e-01],\n",
       "         [-1.12796426e-01, -6.57817423e-02,  6.29553348e-02,\n",
       "           4.91409004e-02,  1.17163822e-01],\n",
       "         [ 6.11972064e-02,  1.38743222e-03,  1.79790303e-01,\n",
       "          -1.50444955e-01,  2.90223807e-02],\n",
       "         [-5.18934429e-03,  1.87943563e-01,  6.28152341e-02,\n",
       "          -1.84549809e-01,  1.01739183e-01],\n",
       "         [-1.82505965e-01, -9.22360644e-02,  4.64774072e-02,\n",
       "          -1.33035630e-02,  3.69060487e-02]]],\n",
       "\n",
       "\n",
       "       [[[-1.12439655e-01,  7.25259036e-02, -1.37454480e-01,\n",
       "          -3.05633843e-02,  1.25579730e-01],\n",
       "         [-1.03676371e-01,  3.03770006e-02,  1.22466758e-01,\n",
       "          -1.80231437e-01, -1.84523612e-02],\n",
       "         [ 4.67686206e-02, -2.60006487e-02,  1.51713893e-01,\n",
       "           1.09229490e-01, -4.04799879e-02],\n",
       "         [-1.18354730e-01, -1.54873163e-01,  2.68246382e-02,\n",
       "          -1.77495003e-01,  8.04548413e-02],\n",
       "         [-2.16287374e-02, -9.63051319e-02,  1.22207299e-01,\n",
       "           1.52340427e-01, -1.57472163e-01]]],\n",
       "\n",
       "\n",
       "       [[[-1.29753113e-01, -1.09724216e-01,  1.00019276e-02,\n",
       "          -1.41436964e-01, -5.06837368e-02],\n",
       "         [-2.54016817e-02,  1.05657741e-01,  6.98681921e-02,\n",
       "          -1.96980149e-01, -5.32692671e-02],\n",
       "         [ 1.61772504e-01,  1.49979368e-01, -1.56945497e-01,\n",
       "          -1.65412754e-01,  1.93921775e-02],\n",
       "         [ 5.28061539e-02,  1.17173925e-01, -1.78630054e-02,\n",
       "          -1.17000103e-01, -1.08249448e-01],\n",
       "         [ 3.80611122e-02,  1.76368967e-01,  1.09261826e-01,\n",
       "          -8.91541988e-02, -6.91345483e-02]]],\n",
       "\n",
       "\n",
       "       [[[ 1.69295564e-01,  3.79699916e-02, -3.76157314e-02,\n",
       "           9.46560502e-03, -1.04231909e-01],\n",
       "         [ 1.61180422e-01,  1.95103332e-01, -4.40561324e-02,\n",
       "          -9.61036012e-02,  1.51077524e-01],\n",
       "         [-1.60146952e-02, -6.74475729e-02, -1.96021587e-01,\n",
       "          -1.35195971e-01,  5.17722964e-03],\n",
       "         [-1.27384990e-01,  5.66124767e-02,  1.40687540e-01,\n",
       "          -1.15341164e-01, -1.61405325e-01],\n",
       "         [-1.06263757e-01, -7.91248828e-02, -1.28939718e-01,\n",
       "          -7.80638680e-02,  6.42652810e-03]]],\n",
       "\n",
       "\n",
       "       [[[ 1.55974180e-02, -2.49469727e-02, -9.72336084e-02,\n",
       "          -1.80703312e-01, -1.14408806e-01],\n",
       "         [-1.26061529e-01, -1.54409096e-01, -1.22140579e-01,\n",
       "          -1.02670029e-01,  9.63267237e-02],\n",
       "         [-1.91581607e-01,  1.53556153e-01, -1.57296777e-01,\n",
       "          -1.97035059e-01, -1.97206661e-01],\n",
       "         [ 1.41412869e-01, -8.29862580e-02,  1.09809950e-01,\n",
       "          -4.51582670e-02,  1.93879858e-01],\n",
       "         [ 1.34436831e-01, -1.96291760e-01, -1.25909179e-01,\n",
       "          -1.48659781e-01, -6.67628795e-02]]],\n",
       "\n",
       "\n",
       "       [[[-2.87133902e-02, -4.61159945e-02,  1.27600983e-01,\n",
       "           2.52235234e-02, -1.12961367e-01],\n",
       "         [ 4.35914248e-02,  9.65139717e-02,  4.19409573e-02,\n",
       "           1.69834271e-01,  1.87390074e-01],\n",
       "         [ 1.25673428e-01,  1.92078933e-01, -1.19977094e-01,\n",
       "          -4.71101999e-02,  1.31246448e-03],\n",
       "         [-2.37260759e-02, -1.60510778e-01, -1.60572827e-02,\n",
       "          -7.02905655e-03,  1.40663698e-01],\n",
       "         [-1.55754447e-01, -1.77880079e-02, -1.55333593e-01,\n",
       "          -1.09368376e-01, -1.90474898e-01]]],\n",
       "\n",
       "\n",
       "       [[[ 1.64997712e-01, -1.05640270e-01,  1.00349441e-01,\n",
       "          -9.78345424e-02,  4.29957807e-02],\n",
       "         [ 8.98177773e-02, -1.56426281e-01,  1.08466521e-01,\n",
       "          -1.60071462e-01,  1.38609603e-01],\n",
       "         [-1.06743552e-01,  2.52800286e-02, -1.48500517e-01,\n",
       "          -6.51083291e-02, -8.37400556e-03],\n",
       "         [-1.45743206e-01, -1.03196651e-02, -1.67592242e-01,\n",
       "          -1.14390470e-01, -1.56560063e-01],\n",
       "         [-1.31988853e-01,  4.26256359e-02,  1.82056591e-01,\n",
       "           9.25478488e-02,  9.52347964e-02]]]], dtype=float32)"
      ]
     },
     "execution_count": 18,
     "metadata": {},
     "output_type": "execute_result"
    }
   ],
   "source": [
    "weight = weight.detach().numpy()\n",
    "weight"
   ]
  },
  {
   "cell_type": "code",
   "execution_count": 20,
   "metadata": {},
   "outputs": [
    {
     "data": {
      "image/png": "[encoded data removed]",
      "text/plain": [
       "<Figure size 432x288 with 2 Axes>"
      ]
     },
     "metadata": {
      "needs_background": "light"
     },
     "output_type": "display_data"
    }
   ],
   "source": [
    "plt.imshow(weight[0,0,:,:], 'jet')\n",
    "plt.colorbar()\n",
    "plt.show()"
   ]
  },
  {
   "cell_type": "markdown",
   "metadata": {},
   "source": [
    "- output 시각화 준비를 위해 numpy화"
   ]
  },
  {
   "cell_type": "code",
   "execution_count": 21,
   "metadata": {},
   "outputs": [],
   "source": [
    "output_data = layer(image)"
   ]
  },
  {
   "cell_type": "code",
   "execution_count": 23,
   "metadata": {},
   "outputs": [],
   "source": [
    "output_data = output_data.data"
   ]
  },
  {
   "cell_type": "code",
   "execution_count": 24,
   "metadata": {},
   "outputs": [],
   "source": [
    "output = output_data.cpu().numpy()"
   ]
  },
  {
   "cell_type": "code",
   "execution_count": 26,
   "metadata": {},
   "outputs": [
    {
     "data": {
      "text/plain": [
       "(1, 20, 24, 24)"
      ]
     },
     "execution_count": 26,
     "metadata": {},
     "output_type": "execute_result"
    }
   ],
   "source": [
    "output.shape"
   ]
  },
  {
   "cell_type": "code",
   "execution_count": 27,
   "metadata": {},
   "outputs": [
    {
     "data": {
      "image/png": "[encoded data removed]",
      "text/plain": [
       "<Figure size 432x288 with 2 Axes>"
      ]
     },
     "metadata": {
      "needs_background": "light"
     },
     "output_type": "display_data"
    }
   ],
   "source": [
    "plt.imshow(output[0,0,:,:], 'jet')\n",
    "plt.colorbar()\n",
    "plt.show()"
   ]
  },
  {
   "cell_type": "markdown",
   "metadata": {},
   "source": [
    "- input으로 들어간 이미지 numpy화"
   ]
  },
  {
   "cell_type": "code",
   "execution_count": 28,
   "metadata": {},
   "outputs": [
    {
     "data": {
      "text/plain": [
       "(1, 1, 28, 28)"
      ]
     },
     "execution_count": 28,
     "metadata": {},
     "output_type": "execute_result"
    }
   ],
   "source": [
    "image_arr = image.numpy()\n",
    "image_arr.shape"
   ]
  },
  {
   "cell_type": "code",
   "execution_count": 29,
   "metadata": {},
   "outputs": [
    {
     "data": {
      "image/png": "[encoded data removed]",
      "text/plain": [
       "<Figure size 1080x2160 with 3 Axes>"
      ]
     },
     "metadata": {
      "needs_background": "light"
     },
     "output_type": "display_data"
    }
   ],
   "source": [
    "plt.figure(figsize=(15, 30))\n",
    "plt.subplot(131)\n",
    "plt.title('Input')\n",
    "plt.imshow(np.squeeze(image_arr), 'gray')\n",
    "plt.subplot(132)\n",
    "plt.title('Weight')\n",
    "plt.imshow(weight[0, 0, :, :], 'jet')\n",
    "plt.subplot(133)\n",
    "plt.title('Output')\n",
    "plt.imshow(output[0,0,:,:], 'gray')\n",
    "plt.show()"
   ]
  },
  {
   "cell_type": "markdown",
   "metadata": {},
   "source": [
    "## Pooling\n",
    "input을 먼저 앞에 넣고, 뒤에 kernel 사이즈와 stride를 순서대로 넣음"
   ]
  },
  {
   "cell_type": "code",
   "execution_count": 30,
   "metadata": {},
   "outputs": [
    {
     "data": {
      "text/plain": [
       "torch.Size([1, 1, 28, 28])"
      ]
     },
     "execution_count": 30,
     "metadata": {},
     "output_type": "execute_result"
    }
   ],
   "source": [
    "image.shape"
   ]
  },
  {
   "cell_type": "code",
   "execution_count": 31,
   "metadata": {},
   "outputs": [
    {
     "data": {
      "text/plain": [
       "torch.Size([1, 1, 14, 14])"
      ]
     },
     "execution_count": 31,
     "metadata": {},
     "output_type": "execute_result"
    }
   ],
   "source": [
    "pool = F.max_pool2d(image, 2, 2)\n",
    "pool.shape"
   ]
  },
  {
   "cell_type": "markdown",
   "metadata": {},
   "source": [
    "- MaxPool Layer는 Weight가 없기 때문에 바로 numpy()가 가능"
   ]
  },
  {
   "cell_type": "code",
   "execution_count": 32,
   "metadata": {},
   "outputs": [
    {
     "data": {
      "text/plain": [
       "(1, 1, 14, 14)"
      ]
     },
     "execution_count": 32,
     "metadata": {},
     "output_type": "execute_result"
    }
   ],
   "source": [
    "pool_arr = pool.numpy()\n",
    "pool_arr.shape"
   ]
  },
  {
   "cell_type": "code",
   "execution_count": 33,
   "metadata": {},
   "outputs": [
    {
     "data": {
      "text/plain": [
       "(1, 1, 28, 28)"
      ]
     },
     "execution_count": 33,
     "metadata": {},
     "output_type": "execute_result"
    }
   ],
   "source": [
    "image_arr.shape"
   ]
  },
  {
   "cell_type": "code",
   "execution_count": 36,
   "metadata": {},
   "outputs": [
    {
     "data": {
      "image/png": "[encoded data removed]",
      "text/plain": [
       "<Figure size 720x1080 with 2 Axes>"
      ]
     },
     "metadata": {
      "needs_background": "light"
     },
     "output_type": "display_data"
    }
   ],
   "source": [
    "plt.figure(figsize=(10, 15))\n",
    "plt.subplot(121)\n",
    "plt.title('Input')\n",
    "plt.imshow(np.squeeze(image_arr), 'gray')\n",
    "plt.subplot(122)\n",
    "plt.title('Output')\n",
    "plt.imshow(np.squeeze(pool_arr), 'gray')\n",
    "plt.show()"
   ]
  },
  {
   "cell_type": "markdown",
   "metadata": {},
   "source": [
    "## Linear\n",
    "nn.Linear는 2d가 아닌 1d만 들어가기 때문에 .view() 1D로 펼쳐줘야함"
   ]
  },
  {
   "cell_type": "code",
   "execution_count": 37,
   "metadata": {},
   "outputs": [
    {
     "data": {
      "text/plain": [
       "torch.Size([1, 784])"
      ]
     },
     "execution_count": 37,
     "metadata": {},
     "output_type": "execute_result"
    }
   ],
   "source": [
    "flatten = image.view(1, -1)\n",
    "flatten.shape"
   ]
  },
  {
   "cell_type": "code",
   "execution_count": 38,
   "metadata": {},
   "outputs": [
    {
     "data": {
      "text/plain": [
       "torch.Size([1, 10])"
      ]
     },
     "execution_count": 38,
     "metadata": {},
     "output_type": "execute_result"
    }
   ],
   "source": [
    "lin = nn.Linear(784, 10)(flatten)\n",
    "lin.shape"
   ]
  },
  {
   "cell_type": "code",
   "execution_count": 39,
   "metadata": {},
   "outputs": [
    {
     "data": {
      "text/plain": [
       "tensor([[ 4.3836e-01, -1.3462e-01, -4.6494e-02, -1.5985e-02,  1.1914e-04,\n",
       "          4.5953e-03, -3.9513e-01, -1.4143e-01, -9.4248e-02,  1.2934e-01]],\n",
       "       grad_fn=<AddmmBackward>)"
      ]
     },
     "execution_count": 39,
     "metadata": {},
     "output_type": "execute_result"
    }
   ],
   "source": [
    "lin"
   ]
  },
  {
   "cell_type": "code",
   "execution_count": 41,
   "metadata": {},
   "outputs": [
    {
     "data": {
      "image/png": "[encoded data removed]",
      "text/plain": [
       "<Figure size 432x288 with 2 Axes>"
      ]
     },
     "metadata": {
      "needs_background": "light"
     },
     "output_type": "display_data"
    }
   ],
   "source": [
    "plt.imshow(lin.detach().numpy(),'jet')\n",
    "plt.colorbar()\n",
    "plt.show()"
   ]
  },
  {
   "cell_type": "markdown",
   "metadata": {},
   "source": [
    "## Softmax\n",
    "결과를 numpy로 꺼내기 위해선 weight가 갇ㅁ긴 Linear에 weight를 꺼줘야함"
   ]
  },
  {
   "cell_type": "code",
   "execution_count": 42,
   "metadata": {},
   "outputs": [],
   "source": [
    "with torch.no_grad():\n",
    "    flatten = image.view(1, 28 * 28)\n",
    "    lin = nn.Linear(784, 10)(flatten)\n",
    "    softmax = F.softmax(lin, dim=1)"
   ]
  },
  {
   "cell_type": "code",
   "execution_count": 43,
   "metadata": {},
   "outputs": [
    {
     "data": {
      "text/plain": [
       "tensor([[0.0692, 0.1153, 0.0830, 0.0672, 0.1004, 0.0913, 0.1534, 0.1180, 0.0969,\n",
       "         0.1054]])"
      ]
     },
     "execution_count": 43,
     "metadata": {},
     "output_type": "execute_result"
    }
   ],
   "source": [
    "softmax"
   ]
  },
  {
   "cell_type": "code",
   "execution_count": 44,
   "metadata": {},
   "outputs": [
    {
     "data": {
      "text/plain": [
       "1.0"
      ]
     },
     "execution_count": 44,
     "metadata": {},
     "output_type": "execute_result"
    }
   ],
   "source": [
    "np.sum(softmax.numpy())"
   ]
  },
  {
   "cell_type": "code",
   "execution_count": 45,
   "metadata": {},
   "outputs": [
    {
     "data": {
      "image/png": "[encoded data removed]",
      "text/plain": [
       "<Figure size 432x288 with 2 Axes>"
      ]
     },
     "metadata": {
      "needs_background": "light"
     },
     "output_type": "display_data"
    }
   ],
   "source": [
    "plt.imshow(softmax.detach().numpy(),'jet')\n",
    "plt.colorbar()\n",
    "plt.show()"
   ]
  },
  {
   "cell_type": "code",
   "execution_count": null,
   "metadata": {},
   "outputs": [],
   "source": []
  }
 ],
 "metadata": {
  "kernelspec": {
   "display_name": "Python 3",
   "language": "python",
   "name": "python3"
  },
  "language_info": {
   "codemirror_mode": {
    "name": "ipython",
    "version": 3
   },
   "file_extension": ".py",
   "mimetype": "text/x-python",
   "name": "python",
   "nbconvert_exporter": "python",
   "pygments_lexer": "ipython3",
   "version": "3.7.3"
  }
 },
 "nbformat": 4,
 "nbformat_minor": 4
}
